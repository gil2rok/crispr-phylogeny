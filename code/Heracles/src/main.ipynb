{
 "cells": [
  {
   "cell_type": "markdown",
   "metadata": {},
   "source": [
    "# Imports and Global Variables"
   ]
  },
  {
   "cell_type": "code",
   "execution_count": 65,
   "metadata": {},
   "outputs": [],
   "source": [
    "import os\n",
    "os.chdir('/Users/gil2rok/school/crispr-phylogeny2/code/Heracles')\n",
    "\n",
    "import pickle\n",
    "import torch\n",
    "import geoopt\n",
    "import icecream as ic\n",
    "import numpy as np\n",
    "import matplotlib.pyplot as plt\n",
    "import seaborn as sns\n",
    "import mlflow\n",
    "\n",
    "from mlflow import log_metric\n",
    "from scipy.linalg import expm\n",
    "from scipy.cluster.hierarchy import average, to_tree\n",
    "import icecream as ic\n",
    "\n",
    "from metrics2 import triplets_correct, dist_correlation, cas_triplets_correct\n",
    "from logalike import Logalike\n",
    "from util.util import char_matrix_to_dist_matrix, embed_tree, estimate_tree, generate_Q"
   ]
  },
  {
   "cell_type": "code",
   "execution_count": 66,
   "metadata": {},
   "outputs": [
    {
     "name": "stdout",
     "output_type": "stream",
     "text": [
      "The autoreload extension is already loaded. To reload it, use:\n",
      "  %reload_ext autoreload\n"
     ]
    },
    {
     "data": {
      "text/plain": [
       "<Experiment: artifact_location='mlflow-artifacts:/0', creation_time=1681143470700, experiment_id='0', last_update_time=1681958091218, lifecycle_stage='active', name='heracles', tags={}>"
      ]
     },
     "execution_count": 66,
     "metadata": {},
     "output_type": "execute_result"
    }
   ],
   "source": [
    "%load_ext autoreload\n",
    "%autoreload 2\n",
    "\n",
    "sns.set_theme()\n",
    "path = 'data' # relative path between parent directory (set above) to directory with saved data\n",
    "\n",
    "mlflow.set_tracking_uri('http://127.0.0.1:5000')  # set up connection\n",
    "mlflow.set_experiment('heracles') # set the experiment"
   ]
  },
  {
   "cell_type": "markdown",
   "metadata": {},
   "source": [
    "# Running Model"
   ]
  },
  {
   "cell_type": "code",
   "execution_count": 67,
   "metadata": {},
   "outputs": [],
   "source": [
    "# load true tree\n",
    "fname = os.path.join(path, 'true_tree')\n",
    "with open(fname, 'rb') as file:\n",
    "    true_tree = pickle.load(file)\n",
    "    \n",
    "# load parameters for infinitesimal generator Q\n",
    "fname = os.path.join(path, 'params')\n",
    "with open(fname, 'rb') as file:\n",
    "    params = pickle.load(file)"
   ]
  },
  {
   "cell_type": "code",
   "execution_count": 109,
   "metadata": {},
   "outputs": [],
   "source": [
    "# start mlflow run and preprocess character matrix\n",
    "with mlflow.start_run():\n",
    "    char_matrix = true_tree.character_matrix.drop_duplicates().to_numpy(dtype=int) # character matrix of leaf cells\n",
    "\n",
    "    # hyperparameters\n",
    "    num_cells = char_matrix.shape[0] # number of cells\n",
    "    num_sites = char_matrix.shape[1] # number of target sites\n",
    "    num_states = 15\n",
    "    num_epochs = 60\n",
    "    embedding_dim = 3\n",
    "    rho = torch.tensor([2], dtype=torch.float64)\n",
    "\n",
    "    # generate infinitesimal generator matrix Q and initial embedding X\n",
    "    Q_list = [generate_Q(num_sites, num_states) for _ in range(num_sites)]\n",
    "    dist_matrix = char_matrix_to_dist_matrix(char_matrix) # compute distance matrix\n",
    "    est_tree = estimate_tree(dist_matrix, method='neighbor-joining') # estimate phylogenetic tree\n",
    "    X = embed_tree(est_tree, torch.sqrt(rho), num_cells, local_dim=embedding_dim-1)\n",
    "\n",
    "    # initalize logalike object and optimizer\n",
    "    l = Logalike(X=X, priors=None, Q_list=Q_list, character_matrix=char_matrix, num_states=num_states, rho=rho,)\n",
    "    opt = geoopt.optim.RiemannianSGD([l.X], lr=5e-2, stabilize=1)\n",
    "\n",
    "    # run optimization\n",
    "    for epoch in range(num_epochs):\n",
    "        epoch_loss = 0\n",
    "\n",
    "        for i in range(num_cells):\n",
    "            opt.zero_grad() # zero gradient\n",
    "            loss = -l.forward(i) # negative log likelihood of tree configuration\n",
    "            loss.backward() # gradient on manifold\n",
    "            opt.step() # take opt step\n",
    "            \n",
    "            epoch_loss += loss.item()\n",
    "            \n",
    "        log_metric('epoch_loss', epoch_loss)\n",
    "        log_metric('tc all', cas_triplets_correct(true_tree, l.X, rho, all_triplets=True))\n",
    "        log_metric('tc resolved', cas_triplets_correct(true_tree, l.X, rho, all_triplets=False))\n",
    "        log_metric('distance correlation', dist_correlation(true_tree, l.X, rho))"
   ]
  },
  {
   "cell_type": "code",
   "execution_count": 118,
   "metadata": {},
   "outputs": [
    {
     "name": "stdout",
     "output_type": "stream",
     "text": [
      "0.065\n"
     ]
    }
   ],
   "source": [
    "from cassiopeia.data import CassiopeiaTree\n",
    "from cassiopeia.solver import VanillaGreedySolver, ILPSolver\n",
    "from cassiopeia import critique\n",
    "\n",
    "cas_tree = CassiopeiaTree(character_matrix=true_tree.character_matrix, priors=None)\n",
    "vanilla_greedy = VanillaGreedySolver()\n",
    "vanilla_greedy.solve(cas_tree, collapse_mutationless_edges=True)\n",
    "triplets = critique.triplets_correct(true_tree, cas_tree)\n",
    "ans = np.mean(list(triplets[0].values()))\n",
    "print(ans)"
   ]
  },
  {
   "cell_type": "code",
   "execution_count": 114,
   "metadata": {},
   "outputs": [
    {
     "name": "stderr",
     "output_type": "stream",
     "text": [
      "[2023-04-25 15:23:31,524]    INFO [ILPSolver] Solving tree with the following parameters.\n",
      "[2023-04-25 15:23:31,525]    INFO [ILPSolver] Convergence time limit: 12600\n",
      "[2023-04-25 15:23:31,526]    INFO [ILPSolver] Convergence iteration limit: 0\n",
      "[2023-04-25 15:23:31,526]    INFO [ILPSolver] Max potential graph layer size: 10000\n",
      "[2023-04-25 15:23:31,527]    INFO [ILPSolver] Max potential graph lca distance: None\n",
      "[2023-04-25 15:23:31,527]    INFO [ILPSolver] MIP gap: 0.01\n",
      "[2023-04-25 15:23:31,528]    INFO [ILPSolver] Phylogenetic root: (0, 3, 0, 0, 0)\n",
      "[2023-04-25 15:23:31,530]    INFO [ILPSolver] (Process: 77d8e698ed4584d6a2b61608b34a10bd) Estimating a potential graph with a maximum layer size of 10000 and a maximum LCA distance of 3.\n",
      "[2023-04-25 15:23:31,531]    INFO [ILPSolver] (Process: 77d8e698ed4584d6a2b61608b34a10bd) LCA distance 0 completed with a neighborhood size of 8.\n",
      "[2023-04-25 15:23:31,533]    INFO [ILPSolver] (Process: 77d8e698ed4584d6a2b61608b34a10bd) LCA distance 1 completed with a neighborhood size of 8.\n",
      "[2023-04-25 15:23:31,534]    INFO [ILPSolver] (Process: 77d8e698ed4584d6a2b61608b34a10bd) LCA distance 2 completed with a neighborhood size of 9.\n",
      "[2023-04-25 15:23:31,536]    INFO [ILPSolver] (Process: 77d8e698ed4584d6a2b61608b34a10bd) LCA distance 3 completed with a neighborhood size of 9.\n"
     ]
    },
    {
     "ename": "ILPSolverError",
     "evalue": "Gurobi not found. You must install Gurobi & gurobipy from source.",
     "output_type": "error",
     "traceback": [
      "\u001b[0;31m---------------------------------------------------------------------------\u001b[0m",
      "\u001b[0;31mModuleNotFoundError\u001b[0m                       Traceback (most recent call last)",
      "File \u001b[0;32m~/mambaforge/envs/crispr-phylogeny/lib/python3.10/site-packages/cassiopeia/solver/ILPSolver.py:399\u001b[0m, in \u001b[0;36mILPSolver.generate_steiner_model\u001b[0;34m(self, potential_graph, root, targets)\u001b[0m\n\u001b[1;32m    398\u001b[0m \u001b[39mtry\u001b[39;00m:\n\u001b[0;32m--> 399\u001b[0m     \u001b[39mimport\u001b[39;00m \u001b[39mgurobipy\u001b[39;00m\n\u001b[1;32m    400\u001b[0m \u001b[39mexcept\u001b[39;00m \u001b[39mModuleNotFoundError\u001b[39;00m:\n",
      "\u001b[0;31mModuleNotFoundError\u001b[0m: No module named 'gurobipy'",
      "\nDuring handling of the above exception, another exception occurred:\n",
      "\u001b[0;31mILPSolverError\u001b[0m                            Traceback (most recent call last)",
      "Cell \u001b[0;32mIn[114], line 3\u001b[0m\n\u001b[1;32m      1\u001b[0m cas_tree \u001b[38;5;241m=\u001b[39m CassiopeiaTree(character_matrix\u001b[38;5;241m=\u001b[39mtrue_tree\u001b[38;5;241m.\u001b[39mcharacter_matrix, priors\u001b[38;5;241m=\u001b[39m\u001b[38;5;28;01mNone\u001b[39;00m)\n\u001b[1;32m      2\u001b[0m vanilla_greedy \u001b[38;5;241m=\u001b[39m ILPSolver()\n\u001b[0;32m----> 3\u001b[0m \u001b[43mvanilla_greedy\u001b[49m\u001b[38;5;241;43m.\u001b[39;49m\u001b[43msolve\u001b[49m\u001b[43m(\u001b[49m\u001b[43mcas_tree\u001b[49m\u001b[43m,\u001b[49m\u001b[43m \u001b[49m\u001b[43mcollapse_mutationless_edges\u001b[49m\u001b[38;5;241;43m=\u001b[39;49m\u001b[38;5;28;43;01mTrue\u001b[39;49;00m\u001b[43m)\u001b[49m\n\u001b[1;32m      4\u001b[0m triplets \u001b[38;5;241m=\u001b[39m critique\u001b[38;5;241m.\u001b[39mtriplets_correct(true_tree, cas_tree)\n\u001b[1;32m      5\u001b[0m ans \u001b[38;5;241m=\u001b[39m np\u001b[38;5;241m.\u001b[39mmean(\u001b[38;5;28mlist\u001b[39m(triplets[\u001b[38;5;241m0\u001b[39m]\u001b[38;5;241m.\u001b[39mvalues()))\n",
      "File \u001b[0;32m~/mambaforge/envs/crispr-phylogeny/lib/python3.10/site-packages/ngs_tools/logging.py:62\u001b[0m, in \u001b[0;36mLogger.namespaced.<locals>.wrapper.<locals>.inner\u001b[0;34m(*args, **kwargs)\u001b[0m\n\u001b[1;32m     60\u001b[0m \u001b[39mtry\u001b[39;00m:\n\u001b[1;32m     61\u001b[0m     \u001b[39mself\u001b[39m\u001b[39m.\u001b[39mnamespace \u001b[39m=\u001b[39m namespace\n\u001b[0;32m---> 62\u001b[0m     \u001b[39mreturn\u001b[39;00m func(\u001b[39m*\u001b[39;49margs, \u001b[39m*\u001b[39;49m\u001b[39m*\u001b[39;49mkwargs)\n\u001b[1;32m     63\u001b[0m \u001b[39mfinally\u001b[39;00m:\n\u001b[1;32m     64\u001b[0m     \u001b[39mself\u001b[39m\u001b[39m.\u001b[39mnamespace \u001b[39m=\u001b[39m previous\n",
      "File \u001b[0;32m~/mambaforge/envs/crispr-phylogeny/lib/python3.10/site-packages/cassiopeia/solver/ILPSolver.py:228\u001b[0m, in \u001b[0;36mILPSolver.solve\u001b[0;34m(self, cassiopeia_tree, layer, collapse_mutationless_edges, logfile)\u001b[0m\n\u001b[1;32m    225\u001b[0m _targets \u001b[39m=\u001b[39m \u001b[39mlist\u001b[39m(\u001b[39mmap\u001b[39m(\u001b[39mlambda\u001b[39;00m x: encoder[x], targets))\n\u001b[1;32m    226\u001b[0m _root \u001b[39m=\u001b[39m encoder[root]\n\u001b[0;32m--> 228\u001b[0m model, edge_variables \u001b[39m=\u001b[39m \u001b[39mself\u001b[39;49m\u001b[39m.\u001b[39;49mgenerate_steiner_model(\n\u001b[1;32m    229\u001b[0m     _potential_graph, _root, _targets\n\u001b[1;32m    230\u001b[0m )\n\u001b[1;32m    232\u001b[0m \u001b[39m# solve the ILP problem and return a set of proposed solutions\u001b[39;00m\n\u001b[1;32m    233\u001b[0m proposed_solutions \u001b[39m=\u001b[39m \u001b[39mself\u001b[39m\u001b[39m.\u001b[39msolve_steiner_instance(\n\u001b[1;32m    234\u001b[0m     model, edge_variables, _potential_graph, pid, logfile\n\u001b[1;32m    235\u001b[0m )\n",
      "File \u001b[0;32m~/mambaforge/envs/crispr-phylogeny/lib/python3.10/site-packages/cassiopeia/solver/ILPSolver.py:401\u001b[0m, in \u001b[0;36mILPSolver.generate_steiner_model\u001b[0;34m(self, potential_graph, root, targets)\u001b[0m\n\u001b[1;32m    399\u001b[0m     \u001b[39mimport\u001b[39;00m \u001b[39mgurobipy\u001b[39;00m\n\u001b[1;32m    400\u001b[0m \u001b[39mexcept\u001b[39;00m \u001b[39mModuleNotFoundError\u001b[39;00m:\n\u001b[0;32m--> 401\u001b[0m     \u001b[39mraise\u001b[39;00m ILPSolverError(\n\u001b[1;32m    402\u001b[0m         \u001b[39m\"\u001b[39m\u001b[39mGurobi not found. You must install Gurobi & \u001b[39m\u001b[39m\"\u001b[39m\n\u001b[1;32m    403\u001b[0m         \u001b[39m\"\u001b[39m\u001b[39mgurobipy from source.\u001b[39m\u001b[39m\"\u001b[39m\n\u001b[1;32m    404\u001b[0m     )\n\u001b[1;32m    406\u001b[0m source_flow \u001b[39m=\u001b[39m {v: \u001b[39m0\u001b[39m \u001b[39mfor\u001b[39;00m v \u001b[39min\u001b[39;00m potential_graph\u001b[39m.\u001b[39mnodes()}\n\u001b[1;32m    408\u001b[0m \u001b[39mif\u001b[39;00m root \u001b[39mnot\u001b[39;00m \u001b[39min\u001b[39;00m potential_graph\u001b[39m.\u001b[39mnodes:\n",
      "\u001b[0;31mILPSolverError\u001b[0m: Gurobi not found. You must install Gurobi & gurobipy from source."
     ]
    }
   ],
   "source": [
    "cas_tree = CassiopeiaTree(character_matrix=true_tree.character_matrix, priors=None)\n",
    "vanilla_greedy = ILPSolver()\n",
    "vanilla_greedy.solve(cas_tree, collapse_mutationless_edges=True)\n",
    "triplets = critique.triplets_correct(true_tree, cas_tree)\n",
    "ans = np.mean(list(triplets[0].values()))\n",
    "print(ans)"
   ]
  }
 ],
 "metadata": {
  "kernelspec": {
   "display_name": "Python 3.10.9 ('crispr-phylogeny')",
   "language": "python",
   "name": "python3"
  },
  "language_info": {
   "codemirror_mode": {
    "name": "ipython",
    "version": 3
   },
   "file_extension": ".py",
   "mimetype": "text/x-python",
   "name": "python",
   "nbconvert_exporter": "python",
   "pygments_lexer": "ipython3",
   "version": "3.10.9"
  },
  "orig_nbformat": 4,
  "vscode": {
   "interpreter": {
    "hash": "f7bb97b50ad46cb713a8359699e9cabff3f6522da04ef86cb03febb07a8b507c"
   }
  }
 },
 "nbformat": 4,
 "nbformat_minor": 2
}
