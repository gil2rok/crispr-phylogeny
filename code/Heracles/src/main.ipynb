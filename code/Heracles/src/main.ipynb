{
 "cells": [
  {
   "cell_type": "markdown",
   "metadata": {},
   "source": [
    "# Imports and Global Variables"
   ]
  },
  {
   "cell_type": "code",
   "execution_count": 2,
   "metadata": {},
   "outputs": [],
   "source": [
    "import torch\n",
    "import geoopt\n",
    "import numpy as np\n",
    "\n",
    "from scipy.linalg import expm\n",
    "\n",
    "from logalike import Logalike"
   ]
  },
  {
   "cell_type": "code",
   "execution_count": 3,
   "metadata": {},
   "outputs": [
    {
     "name": "stdout",
     "output_type": "stream",
     "text": [
      "The autoreload extension is already loaded. To reload it, use:\n",
      "  %reload_ext autoreload\n"
     ]
    }
   ],
   "source": [
    "%load_ext autoreload\n",
    "%autoreload 2"
   ]
  },
  {
   "cell_type": "markdown",
   "metadata": {},
   "source": [
    "$$\\sigma_i = \\{ 0, 1, \\ldots, M_\\sigma, D \\}$$\n",
    "\n",
    "$\\sigma_i$ = state at target $i$ at site $\\sigma$ consisting of an unedited, mutated, or deleted base. More specifically:\n",
    "\n",
    "$0$ = unedited\n",
    "\n",
    "$1 \\ldots M_\\sigma $ = mutation that are feasible at site $\\sigma$\n",
    "\n",
    "$D$ = deleted\n",
    "\n",
    "edit = mutated $\\cup$ deleted"
   ]
  },
  {
   "cell_type": "code",
   "execution_count": 3,
   "metadata": {},
   "outputs": [],
   "source": [
    "# comment all these lines out if have actual data. This is just simulated ata\n",
    "slow_guides = ['AGCTGCTTAGGGCGCAGCCT', 'CTCCTTGCGTTGACCCGCTT', 'TATTGCCTCTTAATCGTCTT']\n",
    "medium_guides = ['AATCCCTAGTAGATTAGCCT', 'CACAGAACTTTATGACGATA', 'TTAAGTTTGAGCTCGCGCAA']\n",
    "fast_guides = ['TAATTCCGGACGAAATCTTG', 'CTTCCACGGCTCTAGTACAT', 'CCTCCCGTAGTGTTGAGTCA']\n",
    "cassette_sites = slow_guides+medium_guides\n",
    "lineage, Q = simulate_lineage(cassette_sites=cassette_sites, num_init_cells=2, init_death_prob=0.1,\n",
    "                     init_repr_prob=0.75, cancer_prob=1e-3, tree_depth=10)\n",
    "\n",
    "Q = torch.tensor(Q) # TODO: make this Q compact\n",
    "\n",
    "from anthony.conversion_utils import networkx_to_ete, get_ete_cm\n",
    "etetree = networkx_to_ete(lineage) # comment this out if have actual data\n",
    "cm = get_ete_cm(etetree)\n",
    "cm = torch.tensor(cm.to_numpy()) # TODO: ensure not loosing dimensionality when converting from PD Dataframe --> NP array --> Torch tensor"
   ]
  },
  {
   "cell_type": "code",
   "execution_count": 5,
   "metadata": {},
   "outputs": [],
   "source": [
    "# num mutations at each site\n",
    "num_mutations = torch.tensor([4, 4, 4, 4, 4, 4])\n",
    "rho = torch.tensor(2, dtype=torch.float64)\n",
    "\n",
    "# initial guess for points\n",
    "num_cells = cm.shape[0]\n",
    "manifold = geoopt.Lorentz(k=rho)\n",
    "points = manifold.random_normal(num_cells, dtype=torch.float64)"
   ]
  },
  {
   "cell_type": "code",
   "execution_count": 6,
   "metadata": {},
   "outputs": [
    {
     "name": "stdout",
     "output_type": "stream",
     "text": [
      "tensor(2029)\n",
      "0.18160257605909189 \t 0.16666666666666666 1.0438464716396523 1.0438464716396523\n",
      "0.18160257605909183 \t 0.16666666666666666 1.043846471639652 1.043846471639652\n",
      "0.0 \t 0.16666666666666666 -0.00019076124272200071 0.0\n",
      "0.16666666690926574 \t 0.16666666666666666 1.0000000000000002 1.0000000000000002\n",
      "0.20479993820387982 \t 0.16666666666666666 1.1085123496034128 1.1085123496034128\n",
      "0.0 \t 0.16666666666666666 0.0 0.0\n",
      "tensor(2029)\n",
      "0.18483357020884192 \t 0.16666666666666666 1.053091364152727 1.053091364152727\n",
      "0.18483357020884192 \t 0.16666666666666666 1.053091364152727 1.053091364152727\n",
      "0.0 \t 0.16666666666666666 -0.00023098265891984636 0.0\n",
      "0.1666666670223533 \t 0.16666666666666666 1.0000000000000002 1.0000000000000002\n",
      "0.21365656688014661 \t 0.16666666666666666 1.132227627856201 1.132227627856201\n",
      "0.0 \t 0.16666666666666666 0.0 0.0\n",
      "tensor(1678)\n",
      "0.00044599872984755584 \t 0.16666666666666666 0.051729994965061955 0.051729994965061955\n",
      "0.0004459987298475533 \t 0.16666666666666666 0.05172999496506181 0.05172999496506181\n",
      "0.0 \t 0.16666666666666666 0.00022505979971747584 0.0\n",
      "3.3767942299246893e-10 \t 0.16666666666666666 0.0 0.0\n",
      "0.002570403659709961 \t 0.16666666666666666 0.12418704424479941 0.12418704424479941\n",
      "0.0 \t 0.16666666666666666 0.0 0.0\n",
      "tensor(127449)\n",
      "nan \t 0.16666666666666666 nan nan\n"
     ]
    },
    {
     "ename": "AssertionError",
     "evalue": "",
     "output_type": "error",
     "traceback": [
      "\u001b[0;31m---------------------------------------------------------------------------\u001b[0m",
      "\u001b[0;31mAssertionError\u001b[0m                            Traceback (most recent call last)",
      "Cell \u001b[0;32mIn [6], line 10\u001b[0m\n\u001b[1;32m      8\u001b[0m \u001b[38;5;28;01mfor\u001b[39;00m i \u001b[38;5;129;01min\u001b[39;00m \u001b[38;5;28mrange\u001b[39m(num_cells):\n\u001b[1;32m      9\u001b[0m     opt\u001b[38;5;241m.\u001b[39mzero_grad()\n\u001b[0;32m---> 10\u001b[0m     loss \u001b[38;5;241m=\u001b[39m l\u001b[38;5;241m.\u001b[39mforward(Q, i)\n\u001b[1;32m     11\u001b[0m     loss\u001b[38;5;241m.\u001b[39mbackward()\n\u001b[1;32m     12\u001b[0m     opt\u001b[38;5;241m.\u001b[39mstep()\n",
      "File \u001b[0;32m~/school/crispr-phylogeny/src/logalike.py:55\u001b[0m, in \u001b[0;36mLogalike.forward\u001b[0;34m(self, Q, i)\u001b[0m\n\u001b[1;32m     52\u001b[0m             cur \u001b[39m+\u001b[39m\u001b[39m=\u001b[39m t1 \u001b[39m*\u001b[39m t2 \u001b[39m*\u001b[39m t3\n\u001b[1;32m     54\u001b[0m         \u001b[39mprint\u001b[39m(cur\u001b[39m.\u001b[39mitem(), \u001b[39m'\u001b[39m\u001b[39m\\t\u001b[39;00m\u001b[39m'\u001b[39m, t1, t2\u001b[39m.\u001b[39mitem(), t3\u001b[39m.\u001b[39mitem())\n\u001b[0;32m---> 55\u001b[0m         \u001b[39massert\u001b[39;00m(torch\u001b[39m.\u001b[39mall(cur \u001b[39m>\u001b[39m\u001b[39m=\u001b[39m \u001b[39m0\u001b[39m))\n\u001b[1;32m     56\u001b[0m         total \u001b[39m+\u001b[39m\u001b[39m=\u001b[39m torch\u001b[39m.\u001b[39mlog(cur)\n\u001b[1;32m     57\u001b[0m \u001b[39mreturn\u001b[39;00m total \u001b[39m/\u001b[39m \u001b[39mself\u001b[39m\u001b[39m.\u001b[39mnum_cells\n",
      "\u001b[0;31mAssertionError\u001b[0m: "
     ]
    }
   ],
   "source": [
    "l = Logalike(rho=rho,\n",
    "             character_matrix=cm,\n",
    "             init_points=points,\n",
    "             num_mutations=num_mutations,\n",
    "             S=6,)\n",
    "\n",
    "opt = geoopt.optim.RiemannianAdam(l.parameters(), lr=1e-3)\n",
    "for i in range(num_cells):\n",
    "    opt.zero_grad()\n",
    "    loss = l.forward(Q, i)\n",
    "    loss.backward()\n",
    "    opt.step()\n",
    "    "
   ]
  },
  {
   "cell_type": "code",
   "execution_count": null,
   "metadata": {},
   "outputs": [],
   "source": []
  },
  {
   "cell_type": "code",
   "execution_count": null,
   "metadata": {},
   "outputs": [],
   "source": []
  }
 ],
 "metadata": {
  "kernelspec": {
   "display_name": "Python 3.10.6 ('crispr-phylogeny')",
   "language": "python",
   "name": "python3"
  },
  "language_info": {
   "codemirror_mode": {
    "name": "ipython",
    "version": 3
   },
   "file_extension": ".py",
   "mimetype": "text/x-python",
   "name": "python",
   "nbconvert_exporter": "python",
   "pygments_lexer": "ipython3",
   "version": "3.10.6"
  },
  "orig_nbformat": 4,
  "vscode": {
   "interpreter": {
    "hash": "f7bb97b50ad46cb713a8359699e9cabff3f6522da04ef86cb03febb07a8b507c"
   }
  }
 },
 "nbformat": 4,
 "nbformat_minor": 2
}
