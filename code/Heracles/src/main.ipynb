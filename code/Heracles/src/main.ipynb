{
 "cells": [
  {
   "cell_type": "markdown",
   "metadata": {},
   "source": [
    "# Imports and Global Variables"
   ]
  },
  {
   "cell_type": "code",
   "execution_count": 1,
   "metadata": {},
   "outputs": [],
   "source": [
    "import os\n",
    "os.chdir('/Users/gil2rok/school/crispr-phylogeny2/code/Heracles')\n",
    "\n",
    "import pickle\n",
    "import torch\n",
    "import geoopt\n",
    "import icecream as ic\n",
    "import numpy as np\n",
    "import matplotlib.pyplot as plt\n",
    "import seaborn as sns\n",
    "import mlflow\n",
    "\n",
    "from mlflow import log_metric\n",
    "from scipy.linalg import expm\n",
    "from scipy.cluster.hierarchy import average, to_tree\n",
    "import icecream as ic\n",
    "\n",
    "from metrics import dist_correlation, rf, tc2\n",
    "from metrics2 import triplets_correct, dist_correlation\n",
    "from logalike import Logalike\n",
    "from util.util import char_matrix_to_dist_matrix, embed_tree, estimate_tree, generate_Q"
   ]
  },
  {
   "cell_type": "code",
   "execution_count": 2,
   "metadata": {},
   "outputs": [
    {
     "data": {
      "text/plain": [
       "<Experiment: artifact_location='mlflow-artifacts:/0', creation_time=1681143470700, experiment_id='0', last_update_time=1681175451897, lifecycle_stage='active', name='heracles_official', tags={}>"
      ]
     },
     "execution_count": 2,
     "metadata": {},
     "output_type": "execute_result"
    }
   ],
   "source": [
    "%load_ext autoreload\n",
    "%autoreload 2\n",
    "\n",
    "sns.set_theme()\n",
    "path = 'data' # relative path between parent directory (set above) to directory with saved data\n",
    "\n",
    "mlflow.set_tracking_uri('http://127.0.0.1:5000')  # set up connection\n",
    "mlflow.set_experiment('heracles_official') # set the experiment"
   ]
  },
  {
   "cell_type": "markdown",
   "metadata": {},
   "source": [
    "# Running Model"
   ]
  },
  {
   "cell_type": "code",
   "execution_count": 3,
   "metadata": {},
   "outputs": [],
   "source": [
    "# load true tree\n",
    "fname = os.path.join(path, 'true_tree')\n",
    "with open(fname, 'rb') as file:\n",
    "    true_tree = pickle.load(file)\n",
    "    \n",
    "# load parameters for infinitesimal generator Q\n",
    "fname = os.path.join(path, 'params')\n",
    "with open(fname, 'rb') as file:\n",
    "    params = pickle.load(file)"
   ]
  },
  {
   "cell_type": "code",
   "execution_count": 25,
   "metadata": {},
   "outputs": [],
   "source": [
    "# start mlflow run and preprocess character matrix\n",
    "with mlflow.start_run():\n",
    "    char_matrix = true_tree.character_matrix.drop_duplicates().to_numpy(dtype=int) # character matrix of leaf cells\n",
    "\n",
    "    # hyperparameters\n",
    "    num_cells = char_matrix.shape[0] # number of cells\n",
    "    num_sites = char_matrix.shape[1] # number of target sites\n",
    "    num_states = 15\n",
    "    num_epochs = 40\n",
    "    embedding_dim = 5\n",
    "    rho = torch.tensor([2], dtype=torch.float64)\n",
    "\n",
    "    # generate infinitesimal generator matrix Q and initial embedding X\n",
    "    Q_list = [generate_Q(num_sites, num_states) for _ in range(num_sites)]\n",
    "    dist_matrix = char_matrix_to_dist_matrix(char_matrix) # compute distance matrix\n",
    "    est_tree = estimate_tree(dist_matrix, method='neighbor-joining') # estimate phylogenetic tree\n",
    "    X = embed_tree(est_tree, torch.sqrt(rho), num_cells, local_dim=embedding_dim-1)\n",
    "\n",
    "    # initalize logalike object and optimizer\n",
    "    l = Logalike(X=X, priors=None, Q_list=Q_list, character_matrix=char_matrix, num_states=num_states, rho=rho,)\n",
    "    opt = geoopt.optim.RiemannianSGD([l.X], lr=5e-2, stabilize=1)\n",
    "\n",
    "    # run optimization\n",
    "    for epoch in range(num_epochs):\n",
    "        epoch_loss = 0\n",
    "\n",
    "        for i in range(num_cells):\n",
    "            opt.zero_grad() # zero gradient\n",
    "            loss = -l.forward(i) # negative log likelihood of tree configuration\n",
    "            loss.backward() # gradient on manifold\n",
    "            opt.step() # take opt step\n",
    "            \n",
    "            epoch_loss += loss.item()\n",
    "            \n",
    "        log_metric('epoch_loss', epoch_loss)\n",
    "        log_metric('triplets correct', triplets_correct(true_tree, l.X, rho))\n",
    "        log_metric('distance correlation', dist_correlation(true_tree, l.X, rho))"
   ]
  }
 ],
 "metadata": {
  "kernelspec": {
   "display_name": "Python 3.10.9 ('crispr-phylogeny')",
   "language": "python",
   "name": "python3"
  },
  "language_info": {
   "codemirror_mode": {
    "name": "ipython",
    "version": 3
   },
   "file_extension": ".py",
   "mimetype": "text/x-python",
   "name": "python",
   "nbconvert_exporter": "python",
   "pygments_lexer": "ipython3",
   "version": "3.10.9"
  },
  "orig_nbformat": 4,
  "vscode": {
   "interpreter": {
    "hash": "f7bb97b50ad46cb713a8359699e9cabff3f6522da04ef86cb03febb07a8b507c"
   }
  }
 },
 "nbformat": 4,
 "nbformat_minor": 2
}
