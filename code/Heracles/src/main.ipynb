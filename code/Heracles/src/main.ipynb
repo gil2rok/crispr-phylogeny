{
 "cells": [
  {
   "cell_type": "markdown",
   "metadata": {},
   "source": [
    "# Imports and Global Variables"
   ]
  },
  {
   "cell_type": "code",
   "execution_count": 1,
   "metadata": {},
   "outputs": [],
   "source": [
    "import os\n",
    "os.chdir('/Users/gil2rok/school/crispr-phylogeny2/code/Heracles')\n",
    "\n",
    "import pickle\n",
    "import torch\n",
    "import geoopt\n",
    "import icecream as ic\n",
    "import numpy as np\n",
    "import matplotlib.pyplot as plt\n",
    "import seaborn as sns\n",
    "\n",
    "from scipy.linalg import expm, norm\n",
    "from scipy.spatial.distance import pdist, squareform\n",
    "from scipy.cluster.hierarchy import average, to_tree\n",
    "from icecream import install\n",
    "\n",
    "from logalike import Logalike, my_dist\n",
    "from util.misc_util import char_matrix_to_dist_matrix, embed_tree, estimate_tree"
   ]
  },
  {
   "cell_type": "code",
   "execution_count": 2,
   "metadata": {},
   "outputs": [],
   "source": [
    "%load_ext autoreload\n",
    "%autoreload 2\n",
    "\n",
    "sns.set_theme()\n",
    "path = 'data' # relative path between parent directory (set above) to directory with saved data\n",
    "\n",
    "install() # to install ice cream print statements everywhere called by this file"
   ]
  },
  {
   "cell_type": "markdown",
   "metadata": {},
   "source": [
    "# Running Model"
   ]
  },
  {
   "cell_type": "code",
   "execution_count": 3,
   "metadata": {},
   "outputs": [],
   "source": [
    "# load true tree\n",
    "fname = os.path.join(path, 'true_tree')\n",
    "with open(fname, 'rb') as file:\n",
    "    true_tree = pickle.load(file)\n",
    "    \n",
    "# load parameters for infinitesimal generator Q\n",
    "fname = os.path.join(path, 'params')\n",
    "with open(fname, 'rb') as file:\n",
    "    params = pickle.load(file)\n",
    "    \n",
    "# TODO: fix path to call extract_compact_Q\n",
    "# Q_compact = torch.tensor(extract_compact_Q(params['mutation_rate'], params['deletion_rate']))"
   ]
  },
  {
   "cell_type": "code",
   "execution_count": 4,
   "metadata": {},
   "outputs": [],
   "source": [
    "def generate_Q(num_sites, num_states):\n",
    "    \n",
    "    deletion_rate = 9e-4 # global deletion rate \n",
    "    mutation_rate = [0.1] * num_sites # site-specific mutation rate\n",
    "    indel_distribution = [1/num_states] * num_states\n",
    "    \n",
    "    Q = torch.zeros(num_sites + num_states + 1, num_sites + num_states + 1)\n",
    "\n",
    "    for i in range(num_sites + num_states): # fill in diagonals\n",
    "        if i < num_sites:\n",
    "            Q[i,i] = - (mutation_rate[i] + deletion_rate)\n",
    "        else:\n",
    "            Q[i,i] = - deletion_rate\n",
    "            \n",
    "    for i in range(num_sites): # fill in upper right\n",
    "        for j in range(num_states):\n",
    "            Q[i, num_sites + j] = mutation_rate[i] * indel_distribution[j]\n",
    "            \n",
    "    for i in range(num_sites + num_states):\n",
    "        Q[i, -1] = deletion_rate\n",
    "        \n",
    "    return Q"
   ]
  },
  {
   "cell_type": "code",
   "execution_count": 5,
   "metadata": {},
   "outputs": [],
   "source": [
    "char_matrix = true_tree.character_matrix.drop_duplicates().to_numpy() # drop duplicate rows\n",
    "\n",
    "num_cells = char_matrix.shape[0] # number of cells\n",
    "num_sites = char_matrix.shape[1] # number of target sites\n",
    "num_states = 15\n",
    "embedding_dim = 3\n",
    "\n",
    "Q_list = [generate_Q(num_sites, num_states) for _ in range(num_sites)]\n",
    "\n",
    "rho = torch.tensor(2, dtype=torch.float64)\n",
    "\n",
    "# initial guess for points\n",
    "num_cells = char_matrix.shape[0]\n",
    "manifold = geoopt.Lorentz(k=rho)\n",
    "\n",
    "# X = manifold.random_normal(num_cells, embedding_dim, mean=2, std=15, dtype=torch.float64)"
   ]
  },
  {
   "cell_type": "code",
   "execution_count": 6,
   "metadata": {},
   "outputs": [],
   "source": [
    "def manifold_dist(u, v):\n",
    "    u = torch.tensor(u)\n",
    "    v = torch.tensor(v)\n",
    "    \n",
    "    # dist = manifold.dist(u, v)\n",
    "    dist = my_dist(u, v, rho) # TODO: delete\n",
    "    return dist.detach().numpy()\n",
    "\n",
    "def compute_error(X, dist_matrix):\n",
    "    est_dist = squareform(pdist(X.detach().numpy(), metric=manifold_dist))\n",
    "    diff = np.abs(est_dist - dist_matrix.detach().numpy())\n",
    "    error = norm(diff, ord='fro')\n",
    "    \n",
    "    return error"
   ]
  },
  {
   "cell_type": "code",
   "execution_count": 7,
   "metadata": {},
   "outputs": [
    {
     "name": "stderr",
     "output_type": "stream",
     "text": [
      "/Users/gil2rok/school/crispr-phylogeny2/code/Heracles/util/misc_util.py:21: UserWarning: An output with one or more elements was resized since it had shape [1, 21, 21], which does not match the required output shape [1, 1, 21, 21]. This behavior is deprecated, and in a future PyTorch release outputs will not be resized unless they have zero elements. You can explicitly reuse an out tensor t by resizing it, inplace, to zero elements with t.resize_(0). (Triggered internally at  /Users/runner/work/pytorch/pytorch/pytorch/aten/src/ATen/native/Resize.cpp:24.)\n",
      "  P = torch.matrix_exp(t * Q)\n",
      "ic| dist.item(): 0.0\n",
      "ic| t2.item(): 1.0, t3.item(): 0.0\n",
      "ic| tuple1: (0, 4, tensor([0]))\n",
      "ic| tuple2: (0, 8, [0])\n",
      "ic| dist.item(): 0.0\n",
      "ic| t2.item(): 0.0, t3.item(): 1.0\n",
      "ic| tuple1: (4, 0, tensor([0]))\n",
      "ic| tuple2: (8, 0, [0])\n",
      "ic| dist.item(): 0.0\n",
      "ic| t2.item(): 1.0, t3.item(): 0.0\n",
      "ic| tuple1: (0, 4, tensor([0]))\n",
      "ic| tuple2: (0, 8, [0])\n"
     ]
    }
   ],
   "source": [
    "dist_matrix = char_matrix_to_dist_matrix(char_matrix) # compute distance matrix\n",
    "est_tree = estimate_tree(dist_matrix, method='neighbor-joining') # estimate of phylogenetic tree with UPGMA\n",
    "X = embed_tree(est_tree, rho, num_cells, local_dim=embedding_dim-1) #TODO: figure out what local_dim is (embedding_dim-1?)\n",
    "\n",
    "l = Logalike(X=X,\n",
    "             priors=None,\n",
    "             Q_list=Q_list,\n",
    "             character_matrix=char_matrix,\n",
    "             num_states=num_states,\n",
    "             rho=rho,\n",
    "            )\n",
    "\n",
    "opt = geoopt.optim.RiemannianAdam(l.parameters(), lr=5e-1, maximize=False)\n",
    "num_epochs = 10\n",
    "\n",
    "loss_history, dist_error_history = [], []\n",
    "for epoch in range(num_epochs):\n",
    "    epoch_loss = 0\n",
    "    for i in range(num_cells):\n",
    "        opt.zero_grad()\n",
    "        loss = - l.forward(i) # TODO: possibly negate\n",
    "        loss.backward()\n",
    "        opt.step() # maximize likelihood by taking opt step\n",
    "                \n",
    "        epoch_loss += loss.item()\n",
    "        \n",
    "    loss_history.append(epoch_loss)\n",
    "    dist_error_history.append(compute_error(l.X, dist_matrix))"
   ]
  },
  {
   "cell_type": "code",
   "execution_count": 8,
   "metadata": {},
   "outputs": [
    {
     "data": {
      "text/plain": [
       "[<matplotlib.lines.Line2D at 0x2920ed510>]"
      ]
     },
     "execution_count": 8,
     "metadata": {},
     "output_type": "execute_result"
    },
    {
     "data": {
      "image/png": "[encoded data removed]",
      "text/plain": [
       "<Figure size 640x480 with 1 Axes>"
      ]
     },
     "metadata": {},
     "output_type": "display_data"
    }
   ],
   "source": [
    "plt.plot(dist_error_history)"
   ]
  },
  {
   "cell_type": "markdown",
   "metadata": {},
   "source": [
    "$d(u,v) =  \\operatorname {arcosh}(-B(u,v))$ \n",
    "\n",
    "${\\displaystyle \\operatorname {arcosh} x=\\ln \\left(x+{\\sqrt {x^{2}-1}}\\right)}$ \n",
    "\n",
    "$B((x_0, x_1, \\ldots, x_n), (y_0, y_1, \\ldots, y_n)) = -x_0 y_0 + x_1 y_1 + \\ldots + x_n y_n$"
   ]
  }
 ],
 "metadata": {
  "kernelspec": {
   "display_name": "Python 3.10.9 ('crispr-phylogeny')",
   "language": "python",
   "name": "python3"
  },
  "language_info": {
   "codemirror_mode": {
    "name": "ipython",
    "version": 3
   },
   "file_extension": ".py",
   "mimetype": "text/x-python",
   "name": "python",
   "nbconvert_exporter": "python",
   "pygments_lexer": "ipython3",
   "version": "3.10.9"
  },
  "orig_nbformat": 4,
  "vscode": {
   "interpreter": {
    "hash": "f7bb97b50ad46cb713a8359699e9cabff3f6522da04ef86cb03febb07a8b507c"
   }
  }
 },
 "nbformat": 4,
 "nbformat_minor": 2
}
