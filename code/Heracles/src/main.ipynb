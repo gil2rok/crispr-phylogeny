{
 "cells": [
  {
   "cell_type": "markdown",
   "metadata": {},
   "source": [
    "# Imports and Global Variables"
   ]
  },
  {
   "cell_type": "code",
   "execution_count": 105,
   "metadata": {},
   "outputs": [],
   "source": [
    "import os\n",
    "os.chdir('/Users/gil2rok/school/crispr-phylogeny2/code/Heracles')\n",
    "\n",
    "import pickle\n",
    "import torch\n",
    "import geoopt\n",
    "import icecream as ic\n",
    "import numpy as np\n",
    "import matplotlib.pyplot as plt\n",
    "import seaborn as sns\n",
    "\n",
    "from scipy.linalg import expm, norm\n",
    "from scipy.spatial.distance import pdist, squareform\n",
    "from scipy.cluster.hierarchy import average, to_tree\n",
    "import icecream as ic\n",
    "\n",
    "from logalike import Logalike\n",
    "from util.util import char_matrix_to_dist_matrix, embed_tree, estimate_tree"
   ]
  },
  {
   "cell_type": "code",
   "execution_count": 107,
   "metadata": {},
   "outputs": [
    {
     "name": "stdout",
     "output_type": "stream",
     "text": [
      "The autoreload extension is already loaded. To reload it, use:\n",
      "  %reload_ext autoreload\n"
     ]
    }
   ],
   "source": [
    "%load_ext autoreload\n",
    "%autoreload 2\n",
    "\n",
    "sns.set_theme()\n",
    "path = 'data' # relative path between parent directory (set above) to directory with saved data"
   ]
  },
  {
   "cell_type": "markdown",
   "metadata": {},
   "source": [
    "# Util Functions"
   ]
  },
  {
   "cell_type": "code",
   "execution_count": 60,
   "metadata": {},
   "outputs": [],
   "source": [
    "def generate_Q(num_sites, num_states):\n",
    "    \n",
    "    deletion_rate = 9e-4 # global deletion rate \n",
    "    mutation_rate = [0.1] * num_sites # site-specific mutation rate\n",
    "    indel_distribution = [1/num_states] * num_states\n",
    "    \n",
    "    Q = torch.zeros(num_sites + num_states + 1, num_sites + num_states + 1)\n",
    "\n",
    "    for i in range(num_sites + num_states): # fill in diagonals\n",
    "        if i < num_sites:\n",
    "            Q[i,i] = - (mutation_rate[i] + deletion_rate)\n",
    "        else:\n",
    "            Q[i,i] = - deletion_rate\n",
    "            \n",
    "    for i in range(num_sites): # fill in upper right\n",
    "        for j in range(num_states):\n",
    "            Q[i, num_sites + j] = mutation_rate[i] * indel_distribution[j]\n",
    "            \n",
    "    for i in range(num_sites + num_states):\n",
    "        Q[i, -1] = deletion_rate\n",
    "        \n",
    "    return Q"
   ]
  },
  {
   "cell_type": "code",
   "execution_count": 73,
   "metadata": {},
   "outputs": [],
   "source": [
    "def manifold_dist(u, v, rho):\n",
    "    u = torch.tensor(u)\n",
    "    v = torch.tensor(v)\n",
    "    \n",
    "    manifold = geoopt.Lorentz(k=rho)\n",
    "    dist = manifold.dist(u, v)\n",
    "    return dist.detach().numpy()\n",
    "\n",
    "def compute_error(X, dist_matrix, rho):\n",
    "    est_dist = squareform(pdist(X.detach().numpy(), metric=manifold_dist, rho=rho))\n",
    "    diff = np.abs(est_dist - dist_matrix.detach().numpy())\n",
    "    error = norm(diff, ord='fro')\n",
    "    return error"
   ]
  },
  {
   "cell_type": "markdown",
   "metadata": {},
   "source": [
    "# Running Model"
   ]
  },
  {
   "cell_type": "code",
   "execution_count": 74,
   "metadata": {},
   "outputs": [],
   "source": [
    "# load true tree\n",
    "fname = os.path.join(path, 'true_tree')\n",
    "with open(fname, 'rb') as file:\n",
    "    true_tree = pickle.load(file)\n",
    "    \n",
    "# load parameters for infinitesimal generator Q\n",
    "fname = os.path.join(path, 'params')\n",
    "with open(fname, 'rb') as file:\n",
    "    params = pickle.load(file)"
   ]
  },
  {
   "cell_type": "code",
   "execution_count": 76,
   "metadata": {},
   "outputs": [],
   "source": [
    "char_matrix = true_tree.character_matrix.drop_duplicates().to_numpy() # drop duplicate rows\n",
    "\n",
    "num_cells = char_matrix.shape[0] # number of cells\n",
    "num_sites = char_matrix.shape[1] # number of target sites\n",
    "num_states = 15\n",
    "embedding_dim = 3\n",
    "\n",
    "Q_list = [generate_Q(num_sites, num_states) for _ in range(num_sites)]\n",
    "rho = torch.tensor([2], dtype=torch.float64)"
   ]
  },
  {
   "cell_type": "code",
   "execution_count": 121,
   "metadata": {},
   "outputs": [
    {
     "data": {
      "text/plain": [
       "tensor([[ 0., 12.,  6.,  6.,  6.,  3., 21.,  6., 12.],\n",
       "        [12.,  0., 12., 12.,  6.,  9., 15., 12.,  6.],\n",
       "        [ 6., 12.,  0.,  6.,  6.,  3., 21.,  6., 12.],\n",
       "        [ 6., 12.,  6.,  0.,  6.,  3., 21.,  6., 12.],\n",
       "        [ 6.,  6.,  6.,  6.,  0.,  3., 21.,  6., 12.],\n",
       "        [ 3.,  9.,  3.,  3.,  3.,  0., 18.,  3.,  9.],\n",
       "        [21., 15., 21., 21., 21., 18.,  0., 21.,  9.],\n",
       "        [ 6., 12.,  6.,  6.,  6.,  3., 21.,  0., 12.],\n",
       "        [12.,  6., 12., 12., 12.,  9.,  9., 12.,  0.]])"
      ]
     },
     "execution_count": 121,
     "metadata": {},
     "output_type": "execute_result"
    }
   ],
   "source": [
    "dist_matrix * 3"
   ]
  },
  {
   "cell_type": "code",
   "execution_count": 118,
   "metadata": {},
   "outputs": [
    {
     "name": "stdout",
     "output_type": "stream",
     "text": [
      "[[ 0.   10.66  7.54  7.08  7.89  2.87 13.96  5.31  8.27]\n",
      " [10.66  0.   12.49 13.27 13.69  7.92 22.46 10.66 17.45]\n",
      " [ 7.54 12.49  0.    7.28  6.82  5.23 18.49  2.97 14.78]\n",
      " [ 7.08 13.27  7.28  0.    4.84  5.54 17.38  4.43 14.52]\n",
      " [ 7.89 13.69  6.82  4.84  0.    6.07 18.44  3.85 15.26]\n",
      " [ 2.87  7.92  5.23  5.54  6.07  0.   14.54  3.2   9.84]\n",
      " [13.96 22.46 18.49 17.38 18.44 14.54  0.   16.11 21.93]\n",
      " [ 5.31 10.66  2.97  4.43  3.85  3.2  16.11  0.   12.6 ]\n",
      " [ 8.27 17.45 14.78 14.52 15.26  9.84 21.93 12.6   0.  ]]\n"
     ]
    }
   ],
   "source": [
    "np.set_printoptions(precision=2)\n",
    "est_dist = squareform(pdist(l.X.detach().numpy(), metric=manifold_dist, rho=rho))\n",
    "print(est_dist)"
   ]
  },
  {
   "cell_type": "code",
   "execution_count": 80,
   "metadata": {},
   "outputs": [],
   "source": [
    "dist_matrix = char_matrix_to_dist_matrix(char_matrix) # compute distance matrix\n",
    "est_tree = estimate_tree(dist_matrix, method='neighbor-joining') # estimate of phylogenetic tree with UPGMA\n",
    "X = embed_tree(est_tree, rho, num_cells, local_dim=embedding_dim-1) #TODO: figure out what local_dim is (embedding_dim-1?)\n",
    "\n",
    "l = Logalike(X=X,\n",
    "             priors=None,\n",
    "             Q_list=Q_list,\n",
    "             character_matrix=char_matrix,\n",
    "             num_states=num_states,\n",
    "             rho=rho,\n",
    "            )\n",
    "    \n",
    "opt = geoopt.optim.RiemannianSGD([l.X], lr=5e-2, stabilize=1)\n",
    "num_epochs = 30\n",
    "\n",
    "loss_history, dist_error_history = [], []\n",
    "for epoch in range(num_epochs):\n",
    "    epoch_loss = 0\n",
    "\n",
    "    for i in range(num_cells):\n",
    "        opt.zero_grad() # zero gradient\n",
    "        loss = -l.forward(i) # likelihood of tree configuration TODO: possibly negate\n",
    "        loss.backward() # gradient on manifold\n",
    "        opt.step() # take opt step\n",
    "        \n",
    "        epoch_loss += loss.item()\n",
    "        \n",
    "    loss_history.append(epoch_loss)\n",
    "    dist_error_history.append(compute_error(l.X, dist_matrix, rho))"
   ]
  },
  {
   "cell_type": "code",
   "execution_count": 84,
   "metadata": {},
   "outputs": [
    {
     "data": {
      "text/plain": [
       "[<matplotlib.lines.Line2D at 0x2aa253220>]"
      ]
     },
     "execution_count": 84,
     "metadata": {},
     "output_type": "execute_result"
    },
    {
     "data": {
      "image/png": "[encoded data removed]",
      "text/plain": [
       "<Figure size 640x480 with 1 Axes>"
      ]
     },
     "metadata": {},
     "output_type": "display_data"
    }
   ],
   "source": [
    "plt.xlabel('Epoch')\n",
    "plt.ylabel('Loss')\n",
    "plt.plot(loss_history)\n",
    "# plt.plot(dist_error_history)"
   ]
  },
  {
   "cell_type": "code",
   "execution_count": null,
   "metadata": {},
   "outputs": [],
   "source": []
  }
 ],
 "metadata": {
  "kernelspec": {
   "display_name": "Python 3.10.9 ('crispr-phylogeny')",
   "language": "python",
   "name": "python3"
  },
  "language_info": {
   "codemirror_mode": {
    "name": "ipython",
    "version": 3
   },
   "file_extension": ".py",
   "mimetype": "text/x-python",
   "name": "python",
   "nbconvert_exporter": "python",
   "pygments_lexer": "ipython3",
   "version": "3.10.9"
  },
  "orig_nbformat": 4,
  "vscode": {
   "interpreter": {
    "hash": "f7bb97b50ad46cb713a8359699e9cabff3f6522da04ef86cb03febb07a8b507c"
   }
  }
 },
 "nbformat": 4,
 "nbformat_minor": 2
}
