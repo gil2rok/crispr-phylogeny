{
 "cells": [
  {
   "cell_type": "markdown",
   "metadata": {},
   "source": [
    "# Imports and Global Variables"
   ]
  },
  {
   "cell_type": "code",
   "execution_count": 31,
   "metadata": {},
   "outputs": [],
   "source": [
    "import os\n",
    "os.chdir('/Users/gil2rok/school/crispr-phylogeny2/code/Heracles')\n",
    "\n",
    "import pickle\n",
    "import torch\n",
    "import geoopt\n",
    "import icecream as ic\n",
    "import numpy as np\n",
    "import matplotlib.pyplot as plt\n",
    "import seaborn as sns\n",
    "\n",
    "from scipy.linalg import expm, norm\n",
    "from scipy.spatial.distance import pdist, squareform\n",
    "from scipy.cluster.hierarchy import average, to_tree\n",
    "from icecream import install\n",
    "\n",
    "from logalike import Logalike, my_dist\n",
    "from util.misc_util import char_matrix_to_dist_matrix, embed_tree, embed_tree2, estimate_tree"
   ]
  },
  {
   "cell_type": "code",
   "execution_count": 32,
   "metadata": {},
   "outputs": [
    {
     "name": "stdout",
     "output_type": "stream",
     "text": [
      "The autoreload extension is already loaded. To reload it, use:\n",
      "  %reload_ext autoreload\n"
     ]
    }
   ],
   "source": [
    "%load_ext autoreload\n",
    "%autoreload 2\n",
    "\n",
    "sns.set_theme()\n",
    "path = 'data' # relative path between parent directory (set above) to directory with saved data\n",
    "\n",
    "install() # to install ice cream print statements everywhere called by this file"
   ]
  },
  {
   "cell_type": "markdown",
   "metadata": {},
   "source": [
    "# Running Model"
   ]
  },
  {
   "cell_type": "code",
   "execution_count": 33,
   "metadata": {},
   "outputs": [],
   "source": [
    "# load true tree\n",
    "fname = os.path.join(path, 'true_tree')\n",
    "with open(fname, 'rb') as file:\n",
    "    true_tree = pickle.load(file)\n",
    "    \n",
    "# load parameters for infinitesimal generator Q\n",
    "fname = os.path.join(path, 'params')\n",
    "with open(fname, 'rb') as file:\n",
    "    params = pickle.load(file)\n",
    "    \n",
    "# TODO: fix path to call extract_compact_Q\n",
    "# Q_compact = torch.tensor(extract_compact_Q(params['mutation_rate'], params['deletion_rate']))"
   ]
  },
  {
   "cell_type": "code",
   "execution_count": 34,
   "metadata": {},
   "outputs": [],
   "source": [
    "def generate_Q(num_sites, num_states):\n",
    "    \n",
    "    deletion_rate = 9e-4 # global deletion rate \n",
    "    mutation_rate = [0.1] * num_sites # site-specific mutation rate\n",
    "    indel_distribution = [1/num_states] * num_states\n",
    "    \n",
    "    Q = torch.zeros(num_sites + num_states + 1, num_sites + num_states + 1)\n",
    "\n",
    "    for i in range(num_sites + num_states): # fill in diagonals\n",
    "        if i < num_sites:\n",
    "            Q[i,i] = - (mutation_rate[i] + deletion_rate)\n",
    "        else:\n",
    "            Q[i,i] = - deletion_rate\n",
    "            \n",
    "    for i in range(num_sites): # fill in upper right\n",
    "        for j in range(num_states):\n",
    "            Q[i, num_sites + j] = mutation_rate[i] * indel_distribution[j]\n",
    "            \n",
    "    for i in range(num_sites + num_states):\n",
    "        Q[i, -1] = deletion_rate\n",
    "        \n",
    "    return Q"
   ]
  },
  {
   "cell_type": "code",
   "execution_count": 35,
   "metadata": {},
   "outputs": [],
   "source": [
    "char_matrix = true_tree.character_matrix.drop_duplicates().to_numpy() # drop duplicate rows\n",
    "\n",
    "num_cells = char_matrix.shape[0] # number of cells\n",
    "num_sites = char_matrix.shape[1] # number of target sites\n",
    "num_states = 15\n",
    "embedding_dim = 3\n",
    "\n",
    "Q_list = [generate_Q(num_sites, num_states) for _ in range(num_sites)]\n",
    "\n",
    "rho = torch.tensor(2, dtype=torch.float64)\n",
    "\n",
    "# initial guess for points\n",
    "num_cells = char_matrix.shape[0]\n",
    "manifold = geoopt.Lorentz(k=rho)\n",
    "\n",
    "# X = manifold.random_normal(num_cells, embedding_dim, mean=2, std=15, dtype=torch.float64)"
   ]
  },
  {
   "cell_type": "code",
   "execution_count": 36,
   "metadata": {},
   "outputs": [],
   "source": [
    "def manifold_dist(u, v):\n",
    "    u = torch.tensor(u)\n",
    "    v = torch.tensor(v)\n",
    "    \n",
    "    # dist = manifold.dist(u, v)\n",
    "    dist = my_dist(u, v, rho) # TODO: delete\n",
    "    return dist.detach().numpy()\n",
    "\n",
    "def compute_error(X, dist_matrix):\n",
    "    est_dist = squareform(pdist(X.detach().numpy(), metric=manifold_dist))\n",
    "    diff = np.abs(est_dist - dist_matrix.detach().numpy())\n",
    "    error = norm(diff, ord='fro')\n",
    "    \n",
    "    return error"
   ]
  },
  {
   "cell_type": "code",
   "execution_count": 46,
   "metadata": {},
   "outputs": [
    {
     "name": "stdout",
     "output_type": "stream",
     "text": [
      "tensor([[-0.8101, -0.0658,  2.1589],\n",
      "        [ 0.6274,  0.4004,  2.1340],\n",
      "        [ 2.3694, -1.0446,  3.2719],\n",
      "        [-0.2028, -6.8435,  7.1326],\n",
      "        [ 1.5043, -2.2648,  3.3753],\n",
      "        [ 0.7371, -0.4363,  2.1757],\n",
      "        [-0.7371,  0.4363,  2.1757],\n",
      "        [ 0.7075, -0.2380,  2.1348],\n",
      "        [ 0.0000,  0.0000,  2.0000]])\n",
      "tensor([[ 1.4416,  0.0846,  0.2663],\n",
      "        [ 1.5228, -0.2125, -0.5233],\n",
      "        [ 1.7794,  1.0054, -0.3944],\n",
      "        [ 1.5164, -0.5327,  0.1247],\n",
      "        [ 1.4933,  0.4595, -0.1369],\n",
      "        [ 1.5270, -0.0855, -0.5695],\n",
      "        [ 1.7823, -0.7691,  0.7649],\n",
      "        [ 1.4227,  0.0736, -0.1366],\n",
      "        [ 1.7712,  0.2125, -1.0450]], dtype=torch.float64)\n",
      "0\n"
     ]
    },
    {
     "ename": "AssertionError",
     "evalue": "",
     "output_type": "error",
     "traceback": [
      "\u001b[0;31m---------------------------------------------------------------------------\u001b[0m",
      "\u001b[0;31mAssertionError\u001b[0m                            Traceback (most recent call last)",
      "Cell \u001b[0;32mIn[46], line 25\u001b[0m\n\u001b[1;32m     23\u001b[0m \u001b[38;5;28mprint\u001b[39m(i)\n\u001b[1;32m     24\u001b[0m opt\u001b[38;5;241m.\u001b[39mzero_grad() \u001b[38;5;66;03m# zero gradient\u001b[39;00m\n\u001b[0;32m---> 25\u001b[0m loss \u001b[38;5;241m=\u001b[39m \u001b[38;5;241m-\u001b[39m\u001b[43ml\u001b[49m\u001b[38;5;241;43m.\u001b[39;49m\u001b[43mforward\u001b[49m\u001b[43m(\u001b[49m\u001b[43mi\u001b[49m\u001b[43m)\u001b[49m \u001b[38;5;66;03m# likelihood of tree configuration TODO: possibly negate\u001b[39;00m\n\u001b[1;32m     26\u001b[0m loss\u001b[38;5;241m.\u001b[39mbackward() \u001b[38;5;66;03m# gradient on manifold\u001b[39;00m\n\u001b[1;32m     27\u001b[0m opt\u001b[38;5;241m.\u001b[39mstep() \u001b[38;5;66;03m# take opt step\u001b[39;00m\n",
      "File \u001b[0;32m~/school/crispr-phylogeny2/code/Heracles/src/logalike.py:56\u001b[0m, in \u001b[0;36mLogalike.forward\u001b[0;34m(self, i)\u001b[0m\n\u001b[1;32m     52\u001b[0m     ic(i, \u001b[39mself\u001b[39m\u001b[39m.\u001b[39mX[i, :]\u001b[39m.\u001b[39mdetach())\n\u001b[1;32m     53\u001b[0m     ic(j, \u001b[39mself\u001b[39m\u001b[39m.\u001b[39mX[j, :]\u001b[39m.\u001b[39mdetach())\n\u001b[0;32m---> 56\u001b[0m \u001b[39massert\u001b[39;00m(\u001b[39mself\u001b[39m\u001b[39m.\u001b[39mhyperboloid\u001b[39m.\u001b[39mcontains(\u001b[39mself\u001b[39m\u001b[39m.\u001b[39mX[i, :]\u001b[39m.\u001b[39mdetach()\u001b[39m.\u001b[39mnumpy()))\n\u001b[1;32m     58\u001b[0m \u001b[39mfor\u001b[39;00m site \u001b[39min\u001b[39;00m \u001b[39mrange\u001b[39m(\u001b[39mself\u001b[39m\u001b[39m.\u001b[39mnum_sites): \u001b[39m# iterate over all target sites\u001b[39;00m\n\u001b[1;32m     60\u001b[0m     Q \u001b[39m=\u001b[39m \u001b[39mself\u001b[39m\u001b[39m.\u001b[39mQ_list[site] \u001b[39m# site-specific infinitesimal generator Q \u001b[39;00m\n",
      "\u001b[0;31mAssertionError\u001b[0m: "
     ]
    }
   ],
   "source": [
    "dist_matrix = char_matrix_to_dist_matrix(char_matrix) # compute distance matrix\n",
    "est_tree = estimate_tree(dist_matrix, method='neighbor-joining') # estimate of phylogenetic tree with UPGMA\n",
    "X = embed_tree(est_tree, rho, num_cells, local_dim=embedding_dim-1) #TODO: figure out what local_dim is (embedding_dim-1?)\n",
    "print(X)\n",
    "X = embed_tree2(manifold, num_cells, embedding_dim)\n",
    "print(X)\n",
    "\n",
    "l = Logalike(X=X,\n",
    "             priors=None,\n",
    "             Q_list=Q_list,\n",
    "             character_matrix=char_matrix,\n",
    "             num_states=num_states,\n",
    "             rho=rho,\n",
    "            )\n",
    "\n",
    "opt = geoopt.optim.RiemannianAdam(l.parameters(), lr=1e-1, maximize=False)\n",
    "num_epochs = 10\n",
    "\n",
    "loss_history, dist_error_history = [], []\n",
    "for epoch in range(num_epochs):\n",
    "    epoch_loss = 0\n",
    "    for i in range(num_cells):\n",
    "        print(i)\n",
    "        opt.zero_grad() # zero gradient\n",
    "        loss = -l.forward(i) # likelihood of tree configuration TODO: possibly negate\n",
    "        loss.backward() # gradient on manifold\n",
    "        opt.step() # take opt step\n",
    "                \n",
    "        epoch_loss += loss.item()\n",
    "        \n",
    "    loss_history.append(epoch_loss)\n",
    "    dist_error_history.append(compute_error(l.X, dist_matrix))"
   ]
  },
  {
   "cell_type": "code",
   "execution_count": 16,
   "metadata": {},
   "outputs": [
    {
     "data": {
      "text/plain": [
       "-3.9998578399999998"
      ]
     },
     "execution_count": 16,
     "metadata": {},
     "output_type": "execute_result"
    }
   ],
   "source": [
    "def minkowski_dot(x, y):\n",
    "    # return -(x[0:1] @ y[0:1]) + (x[1:] @ y[1:]) # wikpedia convention\n",
    "    return (x[:-1] @ y[:-1]) - (x[-1:] @ y[-1:]) # Wilson convention\n",
    "\n",
    "a =  np.array([0.7546, 0.0074, 2.1376])\n",
    "minkowski_dot(a, a)"
   ]
  },
  {
   "cell_type": "code",
   "execution_count": 8,
   "metadata": {},
   "outputs": [
    {
     "data": {
      "text/plain": [
       "[<matplotlib.lines.Line2D at 0x289178f10>]"
      ]
     },
     "execution_count": 8,
     "metadata": {},
     "output_type": "execute_result"
    },
    {
     "data": {
      "image/png": "[encoded data removed]",
      "text/plain": [
       "<Figure size 640x480 with 1 Axes>"
      ]
     },
     "metadata": {},
     "output_type": "display_data"
    }
   ],
   "source": [
    "plt.plot(dist_error_history)"
   ]
  },
  {
   "cell_type": "markdown",
   "metadata": {},
   "source": [
    "$d(u,v) =  \\operatorname {arcosh}(-B(u,v))$ \n",
    "\n",
    "${\\displaystyle \\operatorname {arcosh} x=\\ln \\left(x+{\\sqrt {x^{2}-1}}\\right)}$ \n",
    "\n",
    "$B((x_0, x_1, \\ldots, x_n), (y_0, y_1, \\ldots, y_n)) = -x_0 y_0 + x_1 y_1 + \\ldots + x_n y_n$"
   ]
  }
 ],
 "metadata": {
  "kernelspec": {
   "display_name": "Python 3.10.9 ('crispr-phylogeny')",
   "language": "python",
   "name": "python3"
  },
  "language_info": {
   "codemirror_mode": {
    "name": "ipython",
    "version": 3
   },
   "file_extension": ".py",
   "mimetype": "text/x-python",
   "name": "python",
   "nbconvert_exporter": "python",
   "pygments_lexer": "ipython3",
   "version": "3.10.9"
  },
  "orig_nbformat": 4,
  "vscode": {
   "interpreter": {
    "hash": "f7bb97b50ad46cb713a8359699e9cabff3f6522da04ef86cb03febb07a8b507c"
   }
  }
 },
 "nbformat": 4,
 "nbformat_minor": 2
}
