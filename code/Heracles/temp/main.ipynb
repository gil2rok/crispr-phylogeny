{
 "cells": [
  {
   "cell_type": "markdown",
   "metadata": {},
   "source": [
    "# Imports and Global Variables"
   ]
  },
  {
   "cell_type": "code",
   "execution_count": 1,
   "metadata": {},
   "outputs": [],
   "source": [
    "import torch\n",
    "import geoopt\n",
    "import numpy as np\n",
    "import pickle\n",
    "import os\n",
    "import sys\n",
    "\n",
    "from scipy.linalg import expm\n",
    "from logalike import Logalike"
   ]
  },
  {
   "cell_type": "code",
   "execution_count": 2,
   "metadata": {},
   "outputs": [],
   "source": [
    "%load_ext autoreload\n",
    "%autoreload 2\n",
    "\n",
    "path = '../data' # relative path to directory with saved data"
   ]
  },
  {
   "cell_type": "markdown",
   "metadata": {},
   "source": [
    "# Running Model"
   ]
  },
  {
   "cell_type": "code",
   "execution_count": 3,
   "metadata": {},
   "outputs": [],
   "source": [
    "# load true tree\n",
    "fname = os.path.join(path, 'true_tree')\n",
    "with open(fname, 'rb') as file:\n",
    "    true_tree = pickle.load(file)\n",
    "    \n",
    "# load parameters for infinitesimal generator Q\n",
    "fname = os.path.join(path, 'params')\n",
    "with open(fname, 'rb') as file:\n",
    "    params = pickle.load(file)\n",
    "    \n",
    "# TODO: fix path to call extract_compact_Q\n",
    "# Q_compact = torch.tensor(extract_compact_Q(params['mutation_rate'], params['deletion_rate']))"
   ]
  },
  {
   "cell_type": "code",
   "execution_count": 172,
   "metadata": {},
   "outputs": [],
   "source": [
    "def generate_Q(num_sites, num_states):\n",
    "    \n",
    "    deletion_rate = 1e-5 # global deletion rate \n",
    "    mutation_rate = [0.1] * num_sites # site-specific mutation rate\n",
    "    indel_distribution = [1/num_states] * num_states\n",
    "    \n",
    "    Q = np.zeros((num_sites + num_states + 1, num_sites + num_states + 1),\n",
    "                 dtype=np.float64)\n",
    "    \n",
    "    for i in range(num_sites + num_states): # fill in diagonals\n",
    "        if i < num_sites:\n",
    "            Q[i,i] = - (mutation_rate[i] + deletion_rate)\n",
    "        else:\n",
    "            Q[i,i] = - deletion_rate\n",
    "            \n",
    "    for i in range(num_sites): # fill in upper right\n",
    "        for j in range(num_states):\n",
    "            Q[i, num_sites + j] = mutation_rate[i] * indel_distribution[j]\n",
    "            \n",
    "    for i in range(num_sites + num_states):\n",
    "        Q[i, -1] = deletion_rate\n",
    "        \n",
    "    return Q"
   ]
  },
  {
   "cell_type": "code",
   "execution_count": 173,
   "metadata": {},
   "outputs": [],
   "source": [
    "cm = true_tree.character_matrix.to_numpy()\n",
    "\n",
    "num_cells = cm.shape[0] # number of cells\n",
    "num_sites = cm.shape[1] # number of target sites\n",
    "num_states = 50\n",
    "embedding_dim = 3\n",
    "\n",
    "Q_list = [generate_Q(num_sites, num_states) for _ in range(num_sites)]\n",
    "\n",
    "rho = torch.tensor(1, dtype=torch.float64)\n",
    "\n",
    "# initial guess for points\n",
    "num_cells = cm.shape[0]\n",
    "manifold = geoopt.Lorentz(k=rho)\n",
    "X = manifold.random_normal(num_cells, embedding_dim,\n",
    "                           mean=2, std=15, dtype=torch.float64)"
   ]
  },
  {
   "cell_type": "code",
   "execution_count": 179,
   "metadata": {},
   "outputs": [
    {
     "name": "stdout",
     "output_type": "stream",
     "text": [
      "\t\t\tOriginal Indicies: 0 0 tensor([0])\n",
      "0.01936979159409727 \t 0.02 tensor(0.9841, dtype=torch.float64) tensor(0.9841, dtype=torch.float64)\n",
      "\t\t\tOriginal Indicies: 27 27 tensor([ 0, 27])\n",
      "0.019999937988718 \t 0.02 tensor(1.0000, dtype=torch.float64) tensor(1.0000, dtype=torch.float64)\n",
      "\t\t\tOriginal Indicies: 34 34 tensor([ 0, 34])\n",
      "0.019999937988718 \t 0.02 tensor(1.0000, dtype=torch.float64) tensor(1.0000, dtype=torch.float64)\n",
      "\t\t\tOriginal Indicies: 0 0 tensor([0])\n",
      "0.01936979159409727 \t 0.02 tensor(0.9841, dtype=torch.float64) tensor(0.9841, dtype=torch.float64)\n",
      "\t\t\tOriginal Indicies: 0 45 tensor([0])\n",
      "6.251010686975459e-06 \t 0.02 tensor(0.9841, dtype=torch.float64) tensor(0.0003, dtype=torch.float64)\n",
      "\t\t\tOriginal Indicies: 0 0 tensor([0])\n",
      "0.01936979159409727 \t 0.02 tensor(0.9841, dtype=torch.float64) tensor(0.9841, dtype=torch.float64)\n",
      "\t\t\tOriginal Indicies: 0 0 tensor([0])\n",
      "0.01936979159409727 \t 0.02 tensor(0.9841, dtype=torch.float64) tensor(0.9841, dtype=torch.float64)\n",
      "\t\t\tOriginal Indicies: 10 41 tensor([0])\n",
      "2.0173234398964376e-09 \t 0.02 tensor(0.0003, dtype=torch.float64) tensor(0.0003, dtype=torch.float64)\n",
      "\t\t\tOriginal Indicies: 0 0 tensor([0])\n",
      "0.01936979159409727 \t 0.02 tensor(0.9841, dtype=torch.float64) tensor(0.9841, dtype=torch.float64)\n",
      "\t\t\tOriginal Indicies: 0 0 tensor([0])\n",
      "0.01936979159409727 \t 0.02 tensor(0.9841, dtype=torch.float64) tensor(0.9841, dtype=torch.float64)\n",
      "\t\t\tOriginal Indicies: 0 0 tensor([0])\n",
      "0.01936979159409727 \t 0.02 tensor(0.9841, dtype=torch.float64) tensor(0.9841, dtype=torch.float64)\n",
      "\t\t\tOriginal Indicies: 23 0 tensor([0])\n",
      "6.25101068697546e-06 \t 0.02 tensor(0.0003, dtype=torch.float64) tensor(0.9841, dtype=torch.float64)\n",
      "\t\t\tOriginal Indicies: 40 40 tensor([ 0, 40])\n",
      "0.019999937988718 \t 0.02 tensor(1.0000, dtype=torch.float64) tensor(1.0000, dtype=torch.float64)\n",
      "\t\t\tOriginal Indicies: 0 0 tensor([0])\n",
      "0.01936979159409727 \t 0.02 tensor(0.9841, dtype=torch.float64) tensor(0.9841, dtype=torch.float64)\n",
      "\t\t\tOriginal Indicies: 0 0 tensor([0])\n",
      "0.01936979159409727 \t 0.02 tensor(0.9841, dtype=torch.float64) tensor(0.9841, dtype=torch.float64)\n",
      "\t\t\tOriginal Indicies: 0 0 tensor([0])\n",
      "0.01936979159409727 \t 0.02 tensor(0.9841, dtype=torch.float64) tensor(0.9841, dtype=torch.float64)\n",
      "\t\t\tOriginal Indicies: 0 0 tensor([0])\n",
      "0.01936979159409727 \t 0.02 tensor(0.9841, dtype=torch.float64) tensor(0.9841, dtype=torch.float64)\n",
      "\t\t\tOriginal Indicies: 25 0 tensor([0])\n",
      "6.25101068697546e-06 \t 0.02 tensor(0.0003, dtype=torch.float64) tensor(0.9841, dtype=torch.float64)\n",
      "\t\t\tOriginal Indicies: 0 0 tensor([0])\n",
      "0.01936979159409727 \t 0.02 tensor(0.9841, dtype=torch.float64) tensor(0.9841, dtype=torch.float64)\n",
      "\t\t\tOriginal Indicies: 0 0 tensor([0])\n",
      "0.01936979159409727 \t 0.02 tensor(0.9841, dtype=torch.float64) tensor(0.9841, dtype=torch.float64)\n",
      "\t\t\tOriginal Indicies: 0 0 tensor([0])\n",
      "0.01936979159409727 \t 0.02 tensor(0.9841, dtype=torch.float64) tensor(0.9841, dtype=torch.float64)\n",
      "\t\t\tOriginal Indicies: 32 0 tensor([0])\n",
      "6.25101068697546e-06 \t 0.02 tensor(0.0003, dtype=torch.float64) tensor(0.9841, dtype=torch.float64)\n",
      "\t\t\tOriginal Indicies: 0 13 tensor([0])\n",
      "6.251010686975459e-06 \t 0.02 tensor(0.9841, dtype=torch.float64) tensor(0.0003, dtype=torch.float64)\n",
      "\t\t\tOriginal Indicies: -1 0 tensor([0])\n",
      "0.0 \t 0.02 tensor(0., dtype=torch.float64) tensor(0.9841, dtype=torch.float64)\n",
      "\t\t\tMapped Indicies: 39 23 [23] tensor([[9.8412e-01, 0.0000e+00, 0.0000e+00,  ..., 3.1759e-04, 3.1759e-04,\n",
      "         1.6007e-06],\n",
      "        [0.0000e+00, 9.8412e-01, 0.0000e+00,  ..., 3.1759e-04, 3.1759e-04,\n",
      "         1.6007e-06],\n",
      "        [0.0000e+00, 0.0000e+00, 9.8412e-01,  ..., 3.1759e-04, 3.1759e-04,\n",
      "         1.6007e-06],\n",
      "        ...,\n",
      "        [0.0000e+00, 0.0000e+00, 0.0000e+00,  ..., 1.0000e+00, 0.0000e+00,\n",
      "         1.6007e-06],\n",
      "        [0.0000e+00, 0.0000e+00, 0.0000e+00,  ..., 0.0000e+00, 1.0000e+00,\n",
      "         1.6007e-06],\n",
      "        [0.0000e+00, 0.0000e+00, 0.0000e+00,  ..., 0.0000e+00, 0.0000e+00,\n",
      "         1.0000e+00]], dtype=torch.float64)\n"
     ]
    },
    {
     "ename": "AssertionError",
     "evalue": "",
     "output_type": "error",
     "traceback": [
      "\u001b[0;31m---------------------------------------------------------------------------\u001b[0m",
      "\u001b[0;31mAssertionError\u001b[0m                            Traceback (most recent call last)",
      "Cell \u001b[0;32mIn [179], line 12\u001b[0m\n\u001b[1;32m     10\u001b[0m \u001b[38;5;28;01mfor\u001b[39;00m i \u001b[38;5;129;01min\u001b[39;00m \u001b[38;5;28mrange\u001b[39m(num_cells):\n\u001b[1;32m     11\u001b[0m     opt\u001b[38;5;241m.\u001b[39mzero_grad()\n\u001b[0;32m---> 12\u001b[0m     loss \u001b[38;5;241m=\u001b[39m l\u001b[38;5;241m.\u001b[39mforward(i)\n\u001b[1;32m     13\u001b[0m     \u001b[38;5;28mprint\u001b[39m(\u001b[38;5;124m'\u001b[39m\u001b[38;5;124mLOSS: \u001b[39m\u001b[38;5;124m'\u001b[39m,loss)\n\u001b[1;32m     14\u001b[0m     loss\u001b[38;5;241m.\u001b[39mbackward()\n",
      "File \u001b[0;32m~/school/crispr-phylogeny2/code/Heracles/temp/logalike.py:65\u001b[0m, in \u001b[0;36mLogalike.forward\u001b[0;34m(self, i)\u001b[0m\n\u001b[1;32m     63\u001b[0m         \u001b[39mif\u001b[39;00m cur\u001b[39m.\u001b[39mitem() \u001b[39m==\u001b[39m \u001b[39m0\u001b[39m:\n\u001b[1;32m     64\u001b[0m             \u001b[39mprint\u001b[39m(\u001b[39m'\u001b[39m\u001b[39m\\t\u001b[39;00m\u001b[39m\\t\u001b[39;00m\u001b[39m\\t\u001b[39;00m\u001b[39mMapped Indicies:\u001b[39m\u001b[39m'\u001b[39m, s_i, s_j, A, P)\n\u001b[0;32m---> 65\u001b[0m         \u001b[39massert\u001b[39;00m(torch\u001b[39m.\u001b[39mall(cur \u001b[39m>\u001b[39m \u001b[39m0\u001b[39m))\n\u001b[1;32m     66\u001b[0m         total \u001b[39m+\u001b[39m\u001b[39m=\u001b[39m torch\u001b[39m.\u001b[39mlog(cur)\n\u001b[1;32m     67\u001b[0m \u001b[39mreturn\u001b[39;00m total\n",
      "\u001b[0;31mAssertionError\u001b[0m: "
     ]
    }
   ],
   "source": [
    "l = Logalike(X=X,\n",
    "             priors=None,\n",
    "             Q_list=Q_list,\n",
    "             character_matrix=cm,\n",
    "             num_states=num_states,\n",
    "             rho=rho,\n",
    "            )\n",
    "\n",
    "opt = geoopt.optim.RiemannianAdam(l.parameters(), lr=1e-3)\n",
    "for i in range(num_cells):\n",
    "    opt.zero_grad()\n",
    "    loss = l.forward(i)\n",
    "    print('LOSS: ',loss)\n",
    "    loss.backward()\n",
    "    opt.step()\n",
    "    break"
   ]
  }
 ],
 "metadata": {
  "kernelspec": {
   "display_name": "Python 3.10.6 ('crispr-phylogeny')",
   "language": "python",
   "name": "python3"
  },
  "language_info": {
   "codemirror_mode": {
    "name": "ipython",
    "version": 3
   },
   "file_extension": ".py",
   "mimetype": "text/x-python",
   "name": "python",
   "nbconvert_exporter": "python",
   "pygments_lexer": "ipython3",
   "version": "3.10.6"
  },
  "orig_nbformat": 4,
  "vscode": {
   "interpreter": {
    "hash": "f7bb97b50ad46cb713a8359699e9cabff3f6522da04ef86cb03febb07a8b507c"
   }
  }
 },
 "nbformat": 4,
 "nbformat_minor": 2
}
