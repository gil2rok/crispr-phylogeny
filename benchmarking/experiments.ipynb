{
 "cells": [
  {
   "cell_type": "code",
   "execution_count": 28,
   "metadata": {},
   "outputs": [
    {
     "name": "stdout",
     "output_type": "stream",
     "text": [
      "The autoreload extension is already loaded. To reload it, use:\n",
      "  %reload_ext autoreload\n"
     ]
    }
   ],
   "source": [
    "import os\n",
    "import pickle\n",
    "import numpy as np\n",
    "import torch\n",
    "import heracles\n",
    "import gurobi\n",
    "\n",
    "from heracles.main2 import main\n",
    "from heracles.metrics import cas_triplets_correct\n",
    "from simulate_data import simulate_data\n",
    "from cassiopeia.data import CassiopeiaTree\n",
    "from cassiopeia.solver import VanillaGreedySolver, ILPSolver\n",
    "from cassiopeia.critique import triplets_correct\n",
    "\n",
    "# automatically reload modules\n",
    "%load_ext autoreload\n",
    "%autoreload 2"
   ]
  },
  {
   "cell_type": "code",
   "execution_count": 29,
   "metadata": {},
   "outputs": [],
   "source": [
    "# simulate data\n",
    "num_states=40\n",
    "num_sites=40 # target sites aka characters\n",
    "mutation_rate=0.025\n",
    "deletion_rate=9e-4    \n",
    "transition_prob = {i: 1/num_states for i in range(num_states)}\n",
    "missing_data = 0.2\n",
    "exp_time = 11 # experiment time aka depth of tree\n",
    "path = '../heracles/data'\n",
    "\n",
    "simulate_data(transition_prob, num_sites, num_states, mutation_rate, deletion_rate,\n",
    "              missing_data, exp_time, path)"
   ]
  },
  {
   "cell_type": "code",
   "execution_count": 30,
   "metadata": {},
   "outputs": [],
   "source": [
    "# load data\n",
    "fname = os.path.join(path, 'true_tree')\n",
    "with open(fname, 'rb') as file:\n",
    "    true_tree = pickle.load(file)\n",
    "    \n",
    "fname = os.path.join(path, 'params')\n",
    "with open(fname, 'rb') as file:\n",
    "    params = pickle.load(file)"
   ]
  },
  {
   "cell_type": "code",
   "execution_count": 31,
   "metadata": {},
   "outputs": [
    {
     "name": "stdout",
     "output_type": "stream",
     "text": [
      "Num nodes:  1000\n",
      "Max Depth:  4.974889468915673\n",
      "Avg Depth:  4.974889468915673\n"
     ]
    }
   ],
   "source": [
    "print('Num nodes: ', len(true_tree.nodes))\n",
    "print('Max Depth: ', true_tree.get_max_depth_of_tree())\n",
    "print('Avg Depth: ', true_tree.get_mean_depth_of_tree())"
   ]
  },
  {
   "cell_type": "code",
   "execution_count": 32,
   "metadata": {},
   "outputs": [
    {
     "name": "stderr",
     "output_type": "stream",
     "text": [
      "[2023-04-27 22:40:04,632]    INFO [ILPSolver] Solving tree with the following parameters.\n",
      "[2023-04-27 22:40:04,633]    INFO [ILPSolver] Convergence time limit: 12600\n",
      "[2023-04-27 22:40:04,633]    INFO [ILPSolver] Convergence iteration limit: 0\n",
      "[2023-04-27 22:40:04,634]    INFO [ILPSolver] Max potential graph layer size: 10000\n",
      "[2023-04-27 22:40:04,634]    INFO [ILPSolver] Max potential graph lca distance: None\n",
      "[2023-04-27 22:40:04,634]    INFO [ILPSolver] MIP gap: 0.01\n",
      "[2023-04-27 22:40:04,641]    INFO [ILPSolver] Phylogenetic root: (0, 0, 0, 0, 0, 0, 0, 0, 0, 0, 0, 0, 0, 0, 0, 0, 0, 0, 0, 0, 0, 0, 0, 0, 0, 0, 0, 0, 0, 0, 0, 0, 0, 0, 0, 0, 0, 0, 0, 0)\n",
      "[2023-04-27 22:40:04,645]    INFO [ILPSolver] (Process: 32b24e9ec792094647f6080001ac26d5) Estimating a potential graph with a maximum layer size of 10000 and a maximum LCA distance of 11.\n",
      "[2023-04-27 22:40:17,027]    INFO [ILPSolver] (Process: 32b24e9ec792094647f6080001ac26d5) LCA distance 0 completed with a neighborhood size of 274.\n",
      "[2023-04-27 22:41:13,553]    INFO [ILPSolver] (Process: 32b24e9ec792094647f6080001ac26d5) LCA distance 1 completed with a neighborhood size of 558.\n",
      "[2023-04-27 22:43:33,479]    INFO [ILPSolver] (Process: 32b24e9ec792094647f6080001ac26d5) LCA distance 2 completed with a neighborhood size of 767.\n",
      "[2023-04-27 22:46:09,534]    INFO [ILPSolver] (Process: 32b24e9ec792094647f6080001ac26d5) LCA distance 3 completed with a neighborhood size of 846.\n",
      "[2023-04-27 22:48:49,623]    INFO [ILPSolver] (Process: 32b24e9ec792094647f6080001ac26d5) LCA distance 4 completed with a neighborhood size of 854.\n",
      "[2023-04-27 22:51:31,536]    INFO [ILPSolver] (Process: 32b24e9ec792094647f6080001ac26d5) LCA distance 5 completed with a neighborhood size of 854.\n",
      "[2023-04-27 22:54:13,379]    INFO [ILPSolver] (Process: 32b24e9ec792094647f6080001ac26d5) LCA distance 6 completed with a neighborhood size of 854.\n"
     ]
    }
   ],
   "source": [
    "cas_tree = CassiopeiaTree(character_matrix=true_tree.character_matrix, priors=None)\n",
    "# vanilla_greedy = VanillaGreedySolver()\n",
    "# vanilla_greedy.solve(cas_tree, collapse_mutationless_edges=True)\n",
    "ilp = ILPSolver()\n",
    "ilp.solve(cas_tree)\n",
    "triplets = triplets_correct(true_tree, cas_tree)\n",
    "cas_ans = np.mean(list(triplets[0].values()))"
   ]
  },
  {
   "cell_type": "code",
   "execution_count": 9,
   "metadata": {},
   "outputs": [],
   "source": [
    "char_matrix = true_tree.character_matrix\n",
    "mutation_rate = params['mutation_rate']\n",
    "deletion_rate = params['deletion_rate']\n",
    "transition_prob = params['transition_prob']\n",
    "seed = 0\n",
    "num_epochs = 30\n",
    "lr = 5e-2\n",
    "embedding_dim = 3\n",
    "rho = 2\n",
    "stabilize = 1\n",
    "est_tree_method = 'neighbor-joining'\n",
    "true_tree = true_tree\n",
    "\n",
    "best_embeddings = main(char_matrix, mutation_rate, deletion_rate, transition_prob,\n",
    "                       seed, num_epochs, lr, embedding_dim, rho, stabilize, est_tree_method, true_tree)\n",
    "heracles_ans = cas_triplets_correct(true_tree, best_embeddings, rho)"
   ]
  },
  {
   "cell_type": "code",
   "execution_count": 10,
   "metadata": {},
   "outputs": [
    {
     "name": "stdout",
     "output_type": "stream",
     "text": [
      "Cassiopeia:  0.45799999999999996\n",
      "Heracles:  0.4651666666666667\n"
     ]
    }
   ],
   "source": [
    "print('Cassiopeia: ', cas_ans)\n",
    "print('Heracles: ', heracles_ans)"
   ]
  }
 ],
 "metadata": {
  "kernelspec": {
   "display_name": "Python 3.10.9 ('crispr-phylogeny')",
   "language": "python",
   "name": "python3"
  },
  "language_info": {
   "codemirror_mode": {
    "name": "ipython",
    "version": 3
   },
   "file_extension": ".py",
   "mimetype": "text/x-python",
   "name": "python",
   "nbconvert_exporter": "python",
   "pygments_lexer": "ipython3",
   "version": "3.10.9"
  },
  "orig_nbformat": 4,
  "vscode": {
   "interpreter": {
    "hash": "f7bb97b50ad46cb713a8359699e9cabff3f6522da04ef86cb03febb07a8b507c"
   }
  }
 },
 "nbformat": 4,
 "nbformat_minor": 2
}
