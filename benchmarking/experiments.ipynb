{
 "cells": [
  {
   "cell_type": "code",
   "execution_count": 1,
   "metadata": {},
   "outputs": [],
   "source": [
    "import os\n",
    "from simulate_data import simulate_data\n",
    "from cassiopeia.data import CassiopeiaTree\n",
    "from cassiopeia.solver import VanillaGreedySolver\n",
    "from cassiopeia.critique import triplets_correct\n",
    "import pickle\n",
    "import numpy as np\n",
    "import torch\n",
    "import heracles\n",
    "\n",
    "# automatically reload modules\n",
    "%load_ext autoreload\n",
    "%autoreload 2"
   ]
  },
  {
   "cell_type": "code",
   "execution_count": 5,
   "metadata": {},
   "outputs": [],
   "source": [
    "num_states=15\n",
    "num_sites=5\n",
    "mutation_rate=0.4\n",
    "deletion_rate=9e-4    \n",
    "transition_prob = {i: 1/num_states for i in range(num_states)}\n",
    "path = '../heracles2/data'\n",
    "\n",
    "simulate_data(transition_prob, num_sites, num_states, mutation_rate, deletion_rate, path)"
   ]
  },
  {
   "cell_type": "code",
   "execution_count": null,
   "metadata": {},
   "outputs": [],
   "source": [
    "fname = os.path.join(path, 'true_tree')\n",
    "with open(fname, 'rb') as file:\n",
    "    true_tree = pickle.load(file)\n",
    "    \n",
    "cas_tree = CassiopeiaTree(character_matrix=true_tree.character_matrix, priors=None)\n",
    "vanilla_greedy = VanillaGreedySolver()\n",
    "vanilla_greedy.solve(cas_tree, collapse_mutationless_edges=True)\n",
    "triplets = triplets_correct(true_tree, cas_tree)\n",
    "cas_ans = np.mean(list(triplets[0].values()))"
   ]
  },
  {
   "cell_type": "code",
   "execution_count": null,
   "metadata": {},
   "outputs": [],
   "source": [
    "os.system('python ../heracles2/main.py --tree_path ../heracles2/data/true_tree --params_path ../heracles2/data/params --save_path ../heracles2/saved')\n",
    "rho = torch.tensor(2, dtype=torch.float64)\n",
    "\n",
    "# read in best embeddings X from file\n",
    "X = torch.load('../heracles2/saved/best_embeddings.pt')\n",
    "heracles_ans = cas_triplets_correct(true_tree, X, rho)"
   ]
  },
  {
   "cell_type": "code",
   "execution_count": null,
   "metadata": {},
   "outputs": [],
   "source": [
    "print(cas_ans, heracles_ans)"
   ]
  }
 ],
 "metadata": {
  "kernelspec": {
   "display_name": "Python 3.10.9 ('crispr-phylogeny')",
   "language": "python",
   "name": "python3"
  },
  "language_info": {
   "codemirror_mode": {
    "name": "ipython",
    "version": 3
   },
   "file_extension": ".py",
   "mimetype": "text/x-python",
   "name": "python",
   "nbconvert_exporter": "python",
   "pygments_lexer": "ipython3",
   "version": "3.10.9"
  },
  "orig_nbformat": 4,
  "vscode": {
   "interpreter": {
    "hash": "f7bb97b50ad46cb713a8359699e9cabff3f6522da04ef86cb03febb07a8b507c"
   }
  }
 },
 "nbformat": 4,
 "nbformat_minor": 2
}
