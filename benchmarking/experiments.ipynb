{
 "cells": [
  {
   "cell_type": "code",
   "execution_count": 14,
   "metadata": {},
   "outputs": [
    {
     "ename": "ModuleNotFoundError",
     "evalue": "No module named 'trainer'",
     "output_type": "error",
     "traceback": [
      "\u001b[0;31m---------------------------------------------------------------------------\u001b[0m",
      "\u001b[0;31mModuleNotFoundError\u001b[0m                       Traceback (most recent call last)",
      "Cell \u001b[0;32mIn[14], line 3\u001b[0m\n\u001b[1;32m      1\u001b[0m \u001b[38;5;28;01mimport\u001b[39;00m \u001b[38;5;21;01msys\u001b[39;00m\n\u001b[1;32m      2\u001b[0m sys\u001b[38;5;241m.\u001b[39mpath\u001b[38;5;241m.\u001b[39mappend(\u001b[38;5;124m'\u001b[39m\u001b[38;5;124m../\u001b[39m\u001b[38;5;124m'\u001b[39m)\n\u001b[0;32m----> 3\u001b[0m \u001b[38;5;28;01mimport\u001b[39;00m \u001b[38;5;21;01mheracles\u001b[39;00m\n",
      "File \u001b[0;32m~/school/peer_research/Heracles/benchmarking/../heracles/__init__.py:1\u001b[0m\n\u001b[0;32m----> 1\u001b[0m \u001b[39mfrom\u001b[39;00m \u001b[39m.\u001b[39;00m \u001b[39mimport\u001b[39;00m main\n\u001b[1;32m      2\u001b[0m \u001b[39mfrom\u001b[39;00m \u001b[39m.\u001b[39;00m \u001b[39mimport\u001b[39;00m train\n",
      "File \u001b[0;32m~/school/peer_research/Heracles/benchmarking/../heracles/main.py:8\u001b[0m\n\u001b[1;32m      5\u001b[0m \u001b[39mimport\u001b[39;00m \u001b[39mnumpy\u001b[39;00m \u001b[39mas\u001b[39;00m \u001b[39mnp\u001b[39;00m\n\u001b[1;32m      6\u001b[0m \u001b[39mimport\u001b[39;00m \u001b[39mrandom\u001b[39;00m\n\u001b[0;32m----> 8\u001b[0m \u001b[39mfrom\u001b[39;00m \u001b[39mtrainer\u001b[39;00m \u001b[39mimport\u001b[39;00m train\n\u001b[1;32m      9\u001b[0m \u001b[39mfrom\u001b[39;00m \u001b[39mos\u001b[39;00m \u001b[39mimport\u001b[39;00m path \n\u001b[1;32m     12\u001b[0m \u001b[39mdef\u001b[39;00m \u001b[39mmain\u001b[39m(args):\n\u001b[1;32m     13\u001b[0m     \u001b[39m# validate and transform arguments\u001b[39;00m\n",
      "\u001b[0;31mModuleNotFoundError\u001b[0m: No module named 'trainer'"
     ]
    }
   ],
   "source": [
    "import sys\n",
    "sys.path.append('../')\n",
    "import heracles"
   ]
  },
  {
   "cell_type": "code",
   "execution_count": 4,
   "metadata": {},
   "outputs": [
    {
     "ename": "ImportError",
     "evalue": "attempted relative import with no known parent package",
     "output_type": "error",
     "traceback": [
      "\u001b[0;31m---------------------------------------------------------------------------\u001b[0m",
      "\u001b[0;31mImportError\u001b[0m                               Traceback (most recent call last)",
      "Cell \u001b[0;32mIn[4], line 8\u001b[0m\n\u001b[1;32m      6\u001b[0m \u001b[38;5;28;01mimport\u001b[39;00m \u001b[38;5;21;01mpickle\u001b[39;00m\n\u001b[1;32m      7\u001b[0m \u001b[38;5;28;01mimport\u001b[39;00m \u001b[38;5;21;01mnumpy\u001b[39;00m \u001b[38;5;28;01mas\u001b[39;00m \u001b[38;5;21;01mnp\u001b[39;00m\n\u001b[0;32m----> 8\u001b[0m \u001b[38;5;28;01mfrom\u001b[39;00m \u001b[38;5;21;01m.\u001b[39;00m\u001b[38;5;21;01m.\u001b[39;00m\u001b[38;5;21;01mheracles2\u001b[39;00m\u001b[38;5;21;01m.\u001b[39;00m\u001b[38;5;21;01mmetrics\u001b[39;00m \u001b[38;5;28;01mimport\u001b[39;00m cas_triplets_correct\n\u001b[1;32m      9\u001b[0m \u001b[38;5;28;01mimport\u001b[39;00m \u001b[38;5;21;01mtorch\u001b[39;00m\n\u001b[1;32m     11\u001b[0m \u001b[38;5;66;03m# automatically reload modules\u001b[39;00m\n",
      "\u001b[0;31mImportError\u001b[0m: attempted relative import with no known parent package"
     ]
    }
   ],
   "source": [
    "import os\n",
    "from simulate_data import simulate_data\n",
    "from cassiopeia.data import CassiopeiaTree\n",
    "from cassiopeia.solver import VanillaGreedySolver\n",
    "from cassiopeia.critique import triplets_correct\n",
    "import pickle\n",
    "import numpy as np\n",
    "from ..heracles2.metrics import cas_triplets_correct\n",
    "import torch\n",
    "\n",
    "# automatically reload modules\n",
    "%load_ext autoreload\n",
    "%autoreload 2"
   ]
  },
  {
   "cell_type": "code",
   "execution_count": 5,
   "metadata": {},
   "outputs": [],
   "source": [
    "num_states=15\n",
    "num_sites=5\n",
    "mutation_rate=0.4\n",
    "deletion_rate=9e-4    \n",
    "transition_prob = {i: 1/num_states for i in range(num_states)}\n",
    "path = '../heracles2/data'\n",
    "\n",
    "simulate_data(transition_prob, num_sites, num_states, mutation_rate, deletion_rate, path)"
   ]
  },
  {
   "cell_type": "code",
   "execution_count": null,
   "metadata": {},
   "outputs": [],
   "source": [
    "fname = os.path.join(path, 'true_tree')\n",
    "with open(fname, 'rb') as file:\n",
    "    true_tree = pickle.load(file)\n",
    "    \n",
    "cas_tree = CassiopeiaTree(character_matrix=true_tree.character_matrix, priors=None)\n",
    "vanilla_greedy = VanillaGreedySolver()\n",
    "vanilla_greedy.solve(cas_tree, collapse_mutationless_edges=True)\n",
    "triplets = triplets_correct(true_tree, cas_tree)\n",
    "cas_ans = np.mean(list(triplets[0].values()))"
   ]
  },
  {
   "cell_type": "code",
   "execution_count": null,
   "metadata": {},
   "outputs": [],
   "source": [
    "os.system('python ../heracles2/main.py --tree_path ../heracles2/data/true_tree --params_path ../heracles2/data/params --save_path ../heracles2/saved')\n",
    "rho = torch.tensor(2, dtype=torch.float64)\n",
    "\n",
    "# read in best embeddings X from file\n",
    "X = torch.load('../heracles2/saved/best_embeddings.pt')\n",
    "heracles_ans = cas_triplets_correct(true_tree, X, rho)"
   ]
  },
  {
   "cell_type": "code",
   "execution_count": null,
   "metadata": {},
   "outputs": [],
   "source": [
    "print(cas_ans, heracles_ans)"
   ]
  }
 ],
 "metadata": {
  "kernelspec": {
   "display_name": "Python 3.10.9 ('crispr-phylogeny')",
   "language": "python",
   "name": "python3"
  },
  "language_info": {
   "codemirror_mode": {
    "name": "ipython",
    "version": 3
   },
   "file_extension": ".py",
   "mimetype": "text/x-python",
   "name": "python",
   "nbconvert_exporter": "python",
   "pygments_lexer": "ipython3",
   "version": "3.10.9"
  },
  "orig_nbformat": 4,
  "vscode": {
   "interpreter": {
    "hash": "f7bb97b50ad46cb713a8359699e9cabff3f6522da04ef86cb03febb07a8b507c"
   }
  }
 },
 "nbformat": 4,
 "nbformat_minor": 2
}
