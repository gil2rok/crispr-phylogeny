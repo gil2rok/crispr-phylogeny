{
 "cells": [
  {
   "cell_type": "code",
   "execution_count": 28,
   "metadata": {},
   "outputs": [
    {
     "name": "stdout",
     "output_type": "stream",
     "text": [
      "The autoreload extension is already loaded. To reload it, use:\n",
      "  %reload_ext autoreload\n"
     ]
    }
   ],
   "source": [
    "import os\n",
    "import pickle\n",
    "import numpy as np\n",
    "import torch\n",
    "import heracles\n",
    "import gurobi\n",
    "\n",
    "from heracles.main2 import main\n",
    "from heracles.metrics import cas_triplets_correct\n",
    "from simulate_data import simulate_data\n",
    "from cassiopeia.data import CassiopeiaTree\n",
    "from cassiopeia.solver import VanillaGreedySolver, ILPSolver\n",
    "from cassiopeia.critique import triplets_correct\n",
    "\n",
    "# automatically reload modules\n",
    "%load_ext autoreload\n",
    "%autoreload 2"
   ]
  },
  {
   "cell_type": "code",
   "execution_count": 29,
   "metadata": {},
   "outputs": [],
   "source": [
    "# simulate data\n",
    "num_states=40\n",
    "num_sites=40 # target sites aka characters\n",
    "mutation_rate=0.025\n",
    "deletion_rate=9e-4    \n",
    "transition_prob = {i: 1/num_states for i in range(num_states)}\n",
    "missing_data = 0.2\n",
    "exp_time = 11 # experiment time aka depth of tree\n",
    "path = '../heracles/data'\n",
    "\n",
    "simulate_data(transition_prob, num_sites, num_states, mutation_rate, deletion_rate,\n",
    "              missing_data, exp_time, path)"
   ]
  },
  {
   "cell_type": "code",
   "execution_count": 30,
   "metadata": {},
   "outputs": [],
   "source": [
    "# load data\n",
    "fname = os.path.join(path, 'true_tree')\n",
    "with open(fname, 'rb') as file:\n",
    "    true_tree = pickle.load(file)\n",
    "    \n",
    "fname = os.path.join(path, 'params')\n",
    "with open(fname, 'rb') as file:\n",
    "    params = pickle.load(file)"
   ]
  },
  {
   "cell_type": "code",
   "execution_count": 31,
   "metadata": {},
   "outputs": [
    {
     "name": "stdout",
     "output_type": "stream",
     "text": [
      "Num nodes:  1000\n",
      "Max Depth:  4.974889468915673\n",
      "Avg Depth:  4.974889468915673\n"
     ]
    }
   ],
   "source": [
    "print('Num nodes: ', len(true_tree.nodes))\n",
    "print('Max Depth: ', true_tree.get_max_depth_of_tree())\n",
    "print('Avg Depth: ', true_tree.get_mean_depth_of_tree())"
   ]
  },
  {
   "cell_type": "code",
   "execution_count": 32,
   "metadata": {},
   "outputs": [
    {
     "name": "stderr",
     "output_type": "stream",
     "text": [
      "[2023-04-27 22:40:04,632]    INFO [ILPSolver] Solving tree with the following parameters.\n",
      "[2023-04-27 22:40:04,633]    INFO [ILPSolver] Convergence time limit: 12600\n",
      "[2023-04-27 22:40:04,633]    INFO [ILPSolver] Convergence iteration limit: 0\n",
      "[2023-04-27 22:40:04,634]    INFO [ILPSolver] Max potential graph layer size: 10000\n",
      "[2023-04-27 22:40:04,634]    INFO [ILPSolver] Max potential graph lca distance: None\n",
      "[2023-04-27 22:40:04,634]    INFO [ILPSolver] MIP gap: 0.01\n",
      "[2023-04-27 22:40:04,641]    INFO [ILPSolver] Phylogenetic root: (0, 0, 0, 0, 0, 0, 0, 0, 0, 0, 0, 0, 0, 0, 0, 0, 0, 0, 0, 0, 0, 0, 0, 0, 0, 0, 0, 0, 0, 0, 0, 0, 0, 0, 0, 0, 0, 0, 0, 0)\n",
      "[2023-04-27 22:40:04,645]    INFO [ILPSolver] (Process: 32b24e9ec792094647f6080001ac26d5) Estimating a potential graph with a maximum layer size of 10000 and a maximum LCA distance of 11.\n",
      "[2023-04-27 22:40:17,027]    INFO [ILPSolver] (Process: 32b24e9ec792094647f6080001ac26d5) LCA distance 0 completed with a neighborhood size of 274.\n",
      "[2023-04-27 22:41:13,553]    INFO [ILPSolver] (Process: 32b24e9ec792094647f6080001ac26d5) LCA distance 1 completed with a neighborhood size of 558.\n",
      "[2023-04-27 22:43:33,479]    INFO [ILPSolver] (Process: 32b24e9ec792094647f6080001ac26d5) LCA distance 2 completed with a neighborhood size of 767.\n",
      "[2023-04-27 22:46:09,534]    INFO [ILPSolver] (Process: 32b24e9ec792094647f6080001ac26d5) LCA distance 3 completed with a neighborhood size of 846.\n",
      "[2023-04-27 22:48:49,623]    INFO [ILPSolver] (Process: 32b24e9ec792094647f6080001ac26d5) LCA distance 4 completed with a neighborhood size of 854.\n",
      "[2023-04-27 22:51:31,536]    INFO [ILPSolver] (Process: 32b24e9ec792094647f6080001ac26d5) LCA distance 5 completed with a neighborhood size of 854.\n",
      "[2023-04-27 22:54:13,379]    INFO [ILPSolver] (Process: 32b24e9ec792094647f6080001ac26d5) LCA distance 6 completed with a neighborhood size of 854.\n",
      "[2023-04-27 22:56:55,550]    INFO [ILPSolver] (Process: 32b24e9ec792094647f6080001ac26d5) LCA distance 7 completed with a neighborhood size of 854.\n",
      "[2023-04-27 22:59:37,091]    INFO [ILPSolver] (Process: 32b24e9ec792094647f6080001ac26d5) LCA distance 8 completed with a neighborhood size of 854.\n",
      "[2023-04-27 23:02:18,798]    INFO [ILPSolver] (Process: 32b24e9ec792094647f6080001ac26d5) LCA distance 9 completed with a neighborhood size of 854.\n",
      "[2023-04-27 23:05:00,659]    INFO [ILPSolver] (Process: 32b24e9ec792094647f6080001ac26d5) LCA distance 10 completed with a neighborhood size of 854.\n",
      "[2023-04-27 23:07:42,762]    INFO [ILPSolver] (Process: 32b24e9ec792094647f6080001ac26d5) LCA distance 11 completed with a neighborhood size of 854.\n"
     ]
    },
    {
     "name": "stdout",
     "output_type": "stream",
     "text": [
      "Set parameter Username\n",
      "Academic license - for non-commercial use only - expires 2024-04-26\n"
     ]
    },
    {
     "name": "stderr",
     "output_type": "stream",
     "text": [
      "[2023-04-28 02:47:26,696]    INFO [ILPSolver] (Process 32b24e9ec792094647f6080001ac26d5) Steiner tree solving tool 0 days, 3 hours, 219 minutes, and 33 seconds.\n",
      "[2023-04-28 02:47:26,729]    INFO [ILPSolver] (Process 32b24e9ec792094647f6080001ac26d5) Warning: Steiner tree solving did not result in an optimal model.\n"
     ]
    },
    {
     "ename": "RecursionError",
     "evalue": "maximum recursion depth exceeded while calling a Python object",
     "output_type": "error",
     "traceback": [
      "\u001b[0;31m---------------------------------------------------------------------------\u001b[0m",
      "\u001b[0;31mRecursionError\u001b[0m                            Traceback (most recent call last)",
      "Cell \u001b[0;32mIn[32], line 6\u001b[0m\n\u001b[1;32m      4\u001b[0m ilp \u001b[38;5;241m=\u001b[39m ILPSolver()\n\u001b[1;32m      5\u001b[0m ilp\u001b[38;5;241m.\u001b[39msolve(cas_tree)\n\u001b[0;32m----> 6\u001b[0m triplets \u001b[38;5;241m=\u001b[39m \u001b[43mtriplets_correct\u001b[49m\u001b[43m(\u001b[49m\u001b[43mtrue_tree\u001b[49m\u001b[43m,\u001b[49m\u001b[43m \u001b[49m\u001b[43mcas_tree\u001b[49m\u001b[43m)\u001b[49m\n\u001b[1;32m      7\u001b[0m cas_ans \u001b[38;5;241m=\u001b[39m np\u001b[38;5;241m.\u001b[39mmean(\u001b[38;5;28mlist\u001b[39m(triplets[\u001b[38;5;241m0\u001b[39m]\u001b[38;5;241m.\u001b[39mvalues()))\n",
      "File \u001b[0;32m~/mambaforge/envs/crispr-phylogeny/lib/python3.10/site-packages/cassiopeia/critique/compare.py:87\u001b[0m, in \u001b[0;36mtriplets_correct\u001b[0;34m(tree1, tree2, number_of_trials, min_triplets_at_depth)\u001b[0m\n\u001b[1;32m     81\u001b[0m \u001b[39mfor\u001b[39;00m _ \u001b[39min\u001b[39;00m \u001b[39mrange\u001b[39m(number_of_trials):\n\u001b[1;32m     83\u001b[0m     (i, j, k), out_group \u001b[39m=\u001b[39m critique_utilities\u001b[39m.\u001b[39msample_triplet_at_depth(\n\u001b[1;32m     84\u001b[0m         T1, depth, depth_to_nodes\n\u001b[1;32m     85\u001b[0m     )\n\u001b[0;32m---> 87\u001b[0m     reconstructed_outgroup \u001b[39m=\u001b[39m critique_utilities\u001b[39m.\u001b[39;49mget_outgroup(\n\u001b[1;32m     88\u001b[0m         T2, (i, j, k)\n\u001b[1;32m     89\u001b[0m     )\n\u001b[1;32m     91\u001b[0m     is_resolvable \u001b[39m=\u001b[39m \u001b[39mTrue\u001b[39;00m\n\u001b[1;32m     92\u001b[0m     \u001b[39mif\u001b[39;00m out_group \u001b[39m==\u001b[39m \u001b[39m\"\u001b[39m\u001b[39mNone\u001b[39m\u001b[39m\"\u001b[39m:\n",
      "File \u001b[0;32m~/mambaforge/envs/crispr-phylogeny/lib/python3.10/site-packages/cassiopeia/critique/critique_utilities.py:88\u001b[0m, in \u001b[0;36mget_outgroup\u001b[0;34m(tree, triplet)\u001b[0m\n\u001b[1;32m     70\u001b[0m \u001b[39m\u001b[39m\u001b[39m\"\"\"Infers the outgroup of a triplet from a CassioepiaTree.\u001b[39;00m\n\u001b[1;32m     71\u001b[0m \n\u001b[1;32m     72\u001b[0m \n\u001b[0;32m   (...)\u001b[0m\n\u001b[1;32m     83\u001b[0m \u001b[39m    The outgroup (i.e. the most distal leaf in the triplet.)\u001b[39;00m\n\u001b[1;32m     84\u001b[0m \u001b[39m\"\"\"\u001b[39;00m\n\u001b[1;32m     86\u001b[0m i, j, k \u001b[39m=\u001b[39m triplet[\u001b[39m0\u001b[39m], triplet[\u001b[39m1\u001b[39m], triplet[\u001b[39m2\u001b[39m]\n\u001b[0;32m---> 88\u001b[0m i_ancestors \u001b[39m=\u001b[39m tree\u001b[39m.\u001b[39;49mget_all_ancestors(i)\n\u001b[1;32m     89\u001b[0m j_ancestors \u001b[39m=\u001b[39m tree\u001b[39m.\u001b[39mget_all_ancestors(j)\n\u001b[1;32m     90\u001b[0m k_ancestors \u001b[39m=\u001b[39m tree\u001b[39m.\u001b[39mget_all_ancestors(k)\n",
      "File \u001b[0;32m~/mambaforge/envs/crispr-phylogeny/lib/python3.10/site-packages/cassiopeia/data/CassiopeiaTree.py:1106\u001b[0m, in \u001b[0;36mCassiopeiaTree.get_all_ancestors\u001b[0;34m(self, node, include_node)\u001b[0m\n\u001b[1;32m   1104\u001b[0m \u001b[39mif\u001b[39;00m node \u001b[39mnot\u001b[39;00m \u001b[39min\u001b[39;00m \u001b[39mself\u001b[39m\u001b[39m.\u001b[39m__cache[\u001b[39m\"\u001b[39m\u001b[39mancestors\u001b[39m\u001b[39m\"\u001b[39m]:\n\u001b[1;32m   1105\u001b[0m     parent \u001b[39m=\u001b[39m \u001b[39mself\u001b[39m\u001b[39m.\u001b[39mparent(node)\n\u001b[0;32m-> 1106\u001b[0m     \u001b[39mself\u001b[39m\u001b[39m.\u001b[39m__cache[\u001b[39m\"\u001b[39m\u001b[39mancestors\u001b[39m\u001b[39m\"\u001b[39m][node] \u001b[39m=\u001b[39m [parent] \u001b[39m+\u001b[39m \u001b[39mself\u001b[39;49m\u001b[39m.\u001b[39;49mget_all_ancestors(\n\u001b[1;32m   1107\u001b[0m         parent\n\u001b[1;32m   1108\u001b[0m     )\n\u001b[1;32m   1110\u001b[0m \u001b[39m# Note that the cache never includes the node itself.\u001b[39;00m\n\u001b[1;32m   1111\u001b[0m ancestors \u001b[39m=\u001b[39m \u001b[39mself\u001b[39m\u001b[39m.\u001b[39m__cache[\u001b[39m\"\u001b[39m\u001b[39mancestors\u001b[39m\u001b[39m\"\u001b[39m][node]\n",
      "File \u001b[0;32m~/mambaforge/envs/crispr-phylogeny/lib/python3.10/site-packages/cassiopeia/data/CassiopeiaTree.py:1106\u001b[0m, in \u001b[0;36mCassiopeiaTree.get_all_ancestors\u001b[0;34m(self, node, include_node)\u001b[0m\n\u001b[1;32m   1104\u001b[0m \u001b[39mif\u001b[39;00m node \u001b[39mnot\u001b[39;00m \u001b[39min\u001b[39;00m \u001b[39mself\u001b[39m\u001b[39m.\u001b[39m__cache[\u001b[39m\"\u001b[39m\u001b[39mancestors\u001b[39m\u001b[39m\"\u001b[39m]:\n\u001b[1;32m   1105\u001b[0m     parent \u001b[39m=\u001b[39m \u001b[39mself\u001b[39m\u001b[39m.\u001b[39mparent(node)\n\u001b[0;32m-> 1106\u001b[0m     \u001b[39mself\u001b[39m\u001b[39m.\u001b[39m__cache[\u001b[39m\"\u001b[39m\u001b[39mancestors\u001b[39m\u001b[39m\"\u001b[39m][node] \u001b[39m=\u001b[39m [parent] \u001b[39m+\u001b[39m \u001b[39mself\u001b[39;49m\u001b[39m.\u001b[39;49mget_all_ancestors(\n\u001b[1;32m   1107\u001b[0m         parent\n\u001b[1;32m   1108\u001b[0m     )\n\u001b[1;32m   1110\u001b[0m \u001b[39m# Note that the cache never includes the node itself.\u001b[39;00m\n\u001b[1;32m   1111\u001b[0m ancestors \u001b[39m=\u001b[39m \u001b[39mself\u001b[39m\u001b[39m.\u001b[39m__cache[\u001b[39m\"\u001b[39m\u001b[39mancestors\u001b[39m\u001b[39m\"\u001b[39m][node]\n",
      "    \u001b[0;31m[... skipping similar frames: CassiopeiaTree.get_all_ancestors at line 1106 (9963 times)]\u001b[0m\n",
      "File \u001b[0;32m~/mambaforge/envs/crispr-phylogeny/lib/python3.10/site-packages/cassiopeia/data/CassiopeiaTree.py:1106\u001b[0m, in \u001b[0;36mCassiopeiaTree.get_all_ancestors\u001b[0;34m(self, node, include_node)\u001b[0m\n\u001b[1;32m   1104\u001b[0m \u001b[39mif\u001b[39;00m node \u001b[39mnot\u001b[39;00m \u001b[39min\u001b[39;00m \u001b[39mself\u001b[39m\u001b[39m.\u001b[39m__cache[\u001b[39m\"\u001b[39m\u001b[39mancestors\u001b[39m\u001b[39m\"\u001b[39m]:\n\u001b[1;32m   1105\u001b[0m     parent \u001b[39m=\u001b[39m \u001b[39mself\u001b[39m\u001b[39m.\u001b[39mparent(node)\n\u001b[0;32m-> 1106\u001b[0m     \u001b[39mself\u001b[39m\u001b[39m.\u001b[39m__cache[\u001b[39m\"\u001b[39m\u001b[39mancestors\u001b[39m\u001b[39m\"\u001b[39m][node] \u001b[39m=\u001b[39m [parent] \u001b[39m+\u001b[39m \u001b[39mself\u001b[39;49m\u001b[39m.\u001b[39;49mget_all_ancestors(\n\u001b[1;32m   1107\u001b[0m         parent\n\u001b[1;32m   1108\u001b[0m     )\n\u001b[1;32m   1110\u001b[0m \u001b[39m# Note that the cache never includes the node itself.\u001b[39;00m\n\u001b[1;32m   1111\u001b[0m ancestors \u001b[39m=\u001b[39m \u001b[39mself\u001b[39m\u001b[39m.\u001b[39m__cache[\u001b[39m\"\u001b[39m\u001b[39mancestors\u001b[39m\u001b[39m\"\u001b[39m][node]\n",
      "File \u001b[0;32m~/mambaforge/envs/crispr-phylogeny/lib/python3.10/site-packages/cassiopeia/data/CassiopeiaTree.py:1101\u001b[0m, in \u001b[0;36mCassiopeiaTree.get_all_ancestors\u001b[0;34m(self, node, include_node)\u001b[0m\n\u001b[1;32m   1098\u001b[0m \u001b[39mif\u001b[39;00m \u001b[39m\"\u001b[39m\u001b[39mancestors\u001b[39m\u001b[39m\"\u001b[39m \u001b[39mnot\u001b[39;00m \u001b[39min\u001b[39;00m \u001b[39mself\u001b[39m\u001b[39m.\u001b[39m__cache:\n\u001b[1;32m   1099\u001b[0m     \u001b[39mself\u001b[39m\u001b[39m.\u001b[39m__cache[\u001b[39m\"\u001b[39m\u001b[39mancestors\u001b[39m\u001b[39m\"\u001b[39m] \u001b[39m=\u001b[39m {}\n\u001b[0;32m-> 1101\u001b[0m \u001b[39mif\u001b[39;00m \u001b[39mself\u001b[39;49m\u001b[39m.\u001b[39;49mis_root(node):\n\u001b[1;32m   1102\u001b[0m     \u001b[39mreturn\u001b[39;00m []\n\u001b[1;32m   1104\u001b[0m \u001b[39mif\u001b[39;00m node \u001b[39mnot\u001b[39;00m \u001b[39min\u001b[39;00m \u001b[39mself\u001b[39m\u001b[39m.\u001b[39m__cache[\u001b[39m\"\u001b[39m\u001b[39mancestors\u001b[39m\u001b[39m\"\u001b[39m]:\n",
      "File \u001b[0;32m~/mambaforge/envs/crispr-phylogeny/lib/python3.10/site-packages/cassiopeia/data/CassiopeiaTree.py:541\u001b[0m, in \u001b[0;36mCassiopeiaTree.is_root\u001b[0;34m(self, node)\u001b[0m\n\u001b[1;32m    532\u001b[0m \u001b[39m\u001b[39m\u001b[39m\"\"\"Returns whether or not the node is the root.\u001b[39;00m\n\u001b[1;32m    533\u001b[0m \n\u001b[1;32m    534\u001b[0m \u001b[39mReturns:\u001b[39;00m\n\u001b[0;32m   (...)\u001b[0m\n\u001b[1;32m    538\u001b[0m \u001b[39m    CassiopeiaTreeError if the tree has not been initialized.\u001b[39;00m\n\u001b[1;32m    539\u001b[0m \u001b[39m\"\"\"\u001b[39;00m\n\u001b[1;32m    540\u001b[0m \u001b[39mself\u001b[39m\u001b[39m.\u001b[39m__check_network_initialized()\n\u001b[0;32m--> 541\u001b[0m \u001b[39mreturn\u001b[39;00m \u001b[39mself\u001b[39;49m\u001b[39m.\u001b[39;49m__network\u001b[39m.\u001b[39;49min_degree(node) \u001b[39m==\u001b[39m \u001b[39m0\u001b[39m\n",
      "File \u001b[0;32m~/mambaforge/envs/crispr-phylogeny/lib/python3.10/site-packages/networkx/classes/reportviews.py:432\u001b[0m, in \u001b[0;36mDiDegreeView.__call__\u001b[0;34m(self, nbunch, weight)\u001b[0m\n\u001b[1;32m    430\u001b[0m     \u001b[39mif\u001b[39;00m nbunch \u001b[39min\u001b[39;00m \u001b[39mself\u001b[39m\u001b[39m.\u001b[39m_nodes:\n\u001b[1;32m    431\u001b[0m         \u001b[39mif\u001b[39;00m weight \u001b[39m==\u001b[39m \u001b[39mself\u001b[39m\u001b[39m.\u001b[39m_weight:\n\u001b[0;32m--> 432\u001b[0m             \u001b[39mreturn\u001b[39;00m \u001b[39mself\u001b[39;49m[nbunch]\n\u001b[1;32m    433\u001b[0m         \u001b[39mreturn\u001b[39;00m \u001b[39mself\u001b[39m\u001b[39m.\u001b[39m\u001b[39m__class__\u001b[39m(\u001b[39mself\u001b[39m\u001b[39m.\u001b[39m_graph, \u001b[39mNone\u001b[39;00m, weight)[nbunch]\n\u001b[1;32m    434\u001b[0m \u001b[39mexcept\u001b[39;00m \u001b[39mTypeError\u001b[39;00m:\n",
      "File \u001b[0;32m~/mambaforge/envs/crispr-phylogeny/lib/python3.10/site-packages/networkx/classes/reportviews.py:572\u001b[0m, in \u001b[0;36mInDegreeView.__getitem__\u001b[0;34m(self, n)\u001b[0m\n\u001b[1;32m    570\u001b[0m nbrs \u001b[39m=\u001b[39m \u001b[39mself\u001b[39m\u001b[39m.\u001b[39m_pred[n]\n\u001b[1;32m    571\u001b[0m \u001b[39mif\u001b[39;00m weight \u001b[39mis\u001b[39;00m \u001b[39mNone\u001b[39;00m:\n\u001b[0;32m--> 572\u001b[0m     \u001b[39mreturn\u001b[39;00m \u001b[39mlen\u001b[39;49m(nbrs)\n\u001b[1;32m    573\u001b[0m \u001b[39mreturn\u001b[39;00m \u001b[39msum\u001b[39m(dd\u001b[39m.\u001b[39mget(weight, \u001b[39m1\u001b[39m) \u001b[39mfor\u001b[39;00m dd \u001b[39min\u001b[39;00m nbrs\u001b[39m.\u001b[39mvalues())\n",
      "\u001b[0;31mRecursionError\u001b[0m: maximum recursion depth exceeded while calling a Python object"
     ]
    }
   ],
   "source": [
    "cas_tree = CassiopeiaTree(character_matrix=true_tree.character_matrix, priors=None)\n",
    "# vanilla_greedy = VanillaGreedySolver()\n",
    "# vanilla_greedy.solve(cas_tree, collapse_mutationless_edges=True)\n",
    "ilp = ILPSolver()\n",
    "ilp.solve(cas_tree)\n",
    "triplets = triplets_correct(true_tree, cas_tree)\n",
    "cas_ans = np.mean(list(triplets[0].values()))"
   ]
  },
  {
   "cell_type": "code",
   "execution_count": 9,
   "metadata": {},
   "outputs": [],
   "source": [
    "char_matrix = true_tree.character_matrix\n",
    "mutation_rate = params['mutation_rate']\n",
    "deletion_rate = params['deletion_rate']\n",
    "transition_prob = params['transition_prob']\n",
    "seed = 0\n",
    "num_epochs = 30\n",
    "lr = 5e-2\n",
    "embedding_dim = 3\n",
    "rho = 2\n",
    "stabilize = 1\n",
    "est_tree_method = 'neighbor-joining'\n",
    "true_tree = true_tree\n",
    "\n",
    "best_embeddings = main(char_matrix, mutation_rate, deletion_rate, transition_prob,\n",
    "                       seed, num_epochs, lr, embedding_dim, rho, stabilize, est_tree_method, true_tree)\n",
    "heracles_ans = cas_triplets_correct(true_tree, best_embeddings, rho)"
   ]
  },
  {
   "cell_type": "code",
   "execution_count": 10,
   "metadata": {},
   "outputs": [
    {
     "name": "stdout",
     "output_type": "stream",
     "text": [
      "Cassiopeia:  0.45799999999999996\n",
      "Heracles:  0.4651666666666667\n"
     ]
    }
   ],
   "source": [
    "print('Cassiopeia: ', cas_ans)\n",
    "print('Heracles: ', heracles_ans)"
   ]
  }
 ],
 "metadata": {
  "kernelspec": {
   "display_name": "Python 3.10.9 ('crispr-phylogeny')",
   "language": "python",
   "name": "python3"
  },
  "language_info": {
   "codemirror_mode": {
    "name": "ipython",
    "version": 3
   },
   "file_extension": ".py",
   "mimetype": "text/x-python",
   "name": "python",
   "nbconvert_exporter": "python",
   "pygments_lexer": "ipython3",
   "version": "3.10.9"
  },
  "orig_nbformat": 4,
  "vscode": {
   "interpreter": {
    "hash": "f7bb97b50ad46cb713a8359699e9cabff3f6522da04ef86cb03febb07a8b507c"
   }
  }
 },
 "nbformat": 4,
 "nbformat_minor": 2
}
