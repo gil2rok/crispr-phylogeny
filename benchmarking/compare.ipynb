{
 "cells": [
  {
   "cell_type": "code",
   "execution_count": 1,
   "metadata": {},
   "outputs": [],
   "source": [
    "import numpy as np\n",
    "import torch\n",
    "\n",
    "from simulate_data import simulate_data\n",
    "from cassiopeia.data import CassiopeiaTree\n",
    "from cassiopeia.solver import VanillaGreedySolver, ILPSolver, NeighborJoiningSolver\n",
    "from cassiopeia.critique import triplets_correct as cas_triplets_correct\n",
    "from heracles.metrics import heracles_triplets_correct\n",
    "from heracles.main import main"
   ]
  },
  {
   "cell_type": "code",
   "execution_count": 2,
   "metadata": {},
   "outputs": [],
   "source": [
    "def compare():\n",
    "    # simulate data\n",
    "    true_tree, params = simulate_data(num_extant=500, missing_data=0.0, num_sites=10, num_states=5)\n",
    "    char_matrix = true_tree.character_matrix\n",
    "    print('Simulated Data')\n",
    "    \n",
    "    # reconstruct tree with Cassiopeia ILPSolver\n",
    "    ilp_tree = CassiopeiaTree(character_matrix=true_tree.character_matrix, priors=None)\n",
    "    ilp = ILPSolver()\n",
    "    ilp.solve(ilp_tree, collapse_mutationless_edges=True)\n",
    "    triplets = cas_triplets_correct(true_tree, ilp_tree)\n",
    "    ilp_tc = np.mean(list(triplets[0].values()))\n",
    "    print('ILP Solved:\\t', ilp_tc)\n",
    "    \n",
    "    # reconstruct tree with Cassiopeia VanillaGreedySolver\n",
    "    greedy_tree = CassiopeiaTree(character_matrix=true_tree.character_matrix, priors=None)\n",
    "    vanilla_greedy = VanillaGreedySolver()\n",
    "    vanilla_greedy.solve(greedy_tree, collapse_mutationless_edges=True)\n",
    "    triplets = cas_triplets_correct(true_tree, greedy_tree)\n",
    "    greedy_tc = np.mean(list(triplets[0].values()))\n",
    "    print('Greedy Solved:\\t', greedy_tc)\n",
    "    \n",
    "    # reconstruct tree with Cassiopeia NeighborJoiningSolver\n",
    "    nj_tree = CassiopeiaTree(character_matrix=true_tree.character_matrix, priors=None)\n",
    "    nj = NeighborJoiningSolver(add_root=True)\n",
    "    nj.solve(nj_tree, collapse_mutationless_edges=True)\n",
    "    triplets = cas_triplets_correct(true_tree, nj_tree)\n",
    "    nj_tc = np.mean(list(triplets[0].values()))\n",
    "    print('NJ Solved:\\t', nj_tc)\n",
    "    \n",
    "    # compute embeddings with HERACLES\n",
    "    mutation_rate, deletion_rate, transition_prob = params['mutation_rate'], params['deletion_rate'], params['transition_prob']\n",
    "    embedding_dim=3\n",
    "    rho=2\n",
    "    num_epochs=15\n",
    "    best_embeddings = main(char_matrix, mutation_rate, deletion_rate, transition_prob, \n",
    "                           embedding_dim=embedding_dim, rho=rho, \n",
    "                           num_epochs=num_epochs, true_tree=true_tree)\n",
    "    heracles_tc = heracles_triplets_correct(true_tree, best_embeddings, rho=rho)\n",
    "    print('Heracles Solved:\\t', heracles_tc)\n",
    "    \n",
    "    return greedy_tc, heracles_tc, ilp_tc, nj_tc"
   ]
  },
  {
   "cell_type": "code",
   "execution_count": 3,
   "metadata": {},
   "outputs": [
    {
     "name": "stderr",
     "output_type": "stream",
     "text": [
      "[2023-04-30 18:33:02,998]    INFO [ILPSolver] Solving tree with the following parameters.\n",
      "[2023-04-30 18:33:02,998]    INFO [ILPSolver] Convergence time limit: 12600\n",
      "[2023-04-30 18:33:02,999]    INFO [ILPSolver] Convergence iteration limit: 0\n",
      "[2023-04-30 18:33:02,999]    INFO [ILPSolver] Max potential graph layer size: 10000\n",
      "[2023-04-30 18:33:02,999]    INFO [ILPSolver] Max potential graph lca distance: None\n",
      "[2023-04-30 18:33:03,000]    INFO [ILPSolver] MIP gap: 0.01\n",
      "[2023-04-30 18:33:03,002]    INFO [ILPSolver] Phylogenetic root: (0, 0, 0, 0, 0, 0, 0, 0, 0, 0)\n"
     ]
    },
    {
     "name": "stdout",
     "output_type": "stream",
     "text": [
      "Simulated Data\n"
     ]
    },
    {
     "name": "stderr",
     "output_type": "stream",
     "text": [
      "[2023-04-30 18:33:03,235]    INFO [ILPSolver] (Process: 274a7adceaa6c5c0648e04e5daba4a40) Estimating a potential graph with a maximum layer size of 10000 and a maximum LCA distance of 9.\n",
      "[2023-04-30 18:33:03,258]    INFO [ILPSolver] (Process: 274a7adceaa6c5c0648e04e5daba4a40) LCA distance 0 completed with a neighborhood size of 27.\n",
      "[2023-04-30 18:33:03,282]    INFO [ILPSolver] (Process: 274a7adceaa6c5c0648e04e5daba4a40) LCA distance 1 completed with a neighborhood size of 27.\n",
      "[2023-04-30 18:33:03,305]    INFO [ILPSolver] (Process: 274a7adceaa6c5c0648e04e5daba4a40) LCA distance 2 completed with a neighborhood size of 27.\n",
      "[2023-04-30 18:33:03,331]    INFO [ILPSolver] (Process: 274a7adceaa6c5c0648e04e5daba4a40) LCA distance 3 completed with a neighborhood size of 29.\n",
      "[2023-04-30 18:33:03,355]    INFO [ILPSolver] (Process: 274a7adceaa6c5c0648e04e5daba4a40) LCA distance 4 completed with a neighborhood size of 29.\n",
      "[2023-04-30 18:33:03,380]    INFO [ILPSolver] (Process: 274a7adceaa6c5c0648e04e5daba4a40) LCA distance 5 completed with a neighborhood size of 29.\n",
      "[2023-04-30 18:33:03,403]    INFO [ILPSolver] (Process: 274a7adceaa6c5c0648e04e5daba4a40) LCA distance 6 completed with a neighborhood size of 29.\n",
      "[2023-04-30 18:33:03,428]    INFO [ILPSolver] (Process: 274a7adceaa6c5c0648e04e5daba4a40) LCA distance 7 completed with a neighborhood size of 29.\n",
      "[2023-04-30 18:33:03,452]    INFO [ILPSolver] (Process: 274a7adceaa6c5c0648e04e5daba4a40) LCA distance 8 completed with a neighborhood size of 29.\n",
      "[2023-04-30 18:33:03,477]    INFO [ILPSolver] (Process: 274a7adceaa6c5c0648e04e5daba4a40) LCA distance 9 completed with a neighborhood size of 29.\n"
     ]
    },
    {
     "name": "stdout",
     "output_type": "stream",
     "text": [
      "Set parameter Username\n",
      "Academic license - for non-commercial use only - expires 2024-04-26\n"
     ]
    },
    {
     "name": "stderr",
     "output_type": "stream",
     "text": [
      "[2023-04-30 18:33:03,501]    INFO [ILPSolver] (Process 274a7adceaa6c5c0648e04e5daba4a40) Steiner tree solving tool 0 days, 0 hours, 0 minutes, and 0 seconds.\n"
     ]
    },
    {
     "name": "stdout",
     "output_type": "stream",
     "text": [
      "ILP Solved:\t 0.20414285714285713\n",
      "Greedy Solved:\t 0.22047619047619046\n",
      "NJ Solved:\t 0.22061904761904763\n"
     ]
    },
    {
     "name": "stderr",
     "output_type": "stream",
     "text": [
      " 53%|█████▎    | 8/15 [02:55<02:32, 21.78s/it]"
     ]
    }
   ],
   "source": [
    "compare()"
   ]
  },
  {
   "cell_type": "code",
   "execution_count": 171,
   "metadata": {},
   "outputs": [],
   "source": [
    "from geoopt.manifolds.lorentz.math import inner as geoopt_mdp\n",
    "from heracles.hyperboloid_wilson import minkowski_dot as wilson_mdp\n",
    "\n",
    "# wilson pt\n",
    "pt1 = torch.tensor([\n",
    "    -2.82828054e+07,  1.61832847e+07, -1.30400228e+07, -1.01954093e+07,\n",
    "    -3.41873788e+07,  9.26049530e+06,  1.87116367e+07,  4.31363021e+06,\n",
    "    1.71363229e+07,  2.06445712e+07,  3.77446594e+07,  2.24614149e+07,\n",
    "    1.11693457e+06,  3.84794967e+07,  1.68280638e+07,  1.27803679e+06,\n",
    "    -5.10010376e+06,  1.09749058e+07, -5.76268200e+06,  3.47728168e+07,\n",
    "    -2.03301088e+07, -1.97533264e+07, -1.93611119e+07, -7.70314356e+06,\n",
    "    1.44952964e+07, -1.83956401e+07,  1.27952039e+07,  2.36982942e+07,\n",
    "    -2.05705965e+07,  1.08158854e+08],  dtype=torch.float64\n",
    ")\n",
    "\n",
    "pt2 = torch.tensor([\n",
    "    -12391.27881638,   7090.95770962,  -5692.52423663,  -4453.40727088,\n",
    "    -14966.25533362,   4056.20724708,   8204.33313047,   1877.90689277,\n",
    "    7475.52070145,   9051.06373339,  16542.94743079,   9824.35412299,\n",
    "        507.52694717,  16875.88623624,   7347.17530655,    540.33063492,\n",
    "    -2238.1457424,    4786.88108994,  -2514.7068528,   15230.65532572,\n",
    "    -8908.95529633,  -8664.08879035,  -8502.61690185,  -3326.01432724,\n",
    "    6347.94495746,  -8058.41865838,   5618.47676266,  10356.32921451,\n",
    "    -8982.9349874,   47364.77636841], dtype=torch.float64\n",
    ")\n",
    "\n",
    "def wilson_to_geoopt(pt):\n",
    "    # switch to geoopt convention\n",
    "    cp = pt.clone()\n",
    "    temp = cp[0].clone()\n",
    "    cp[0] = cp[-1]\n",
    "    cp[-1] = temp\n",
    "    return cp"
   ]
  },
  {
   "cell_type": "code",
   "execution_count": 216,
   "metadata": {},
   "outputs": [
    {
     "name": "stdout",
     "output_type": "stream",
     "text": [
      "186.5625\n"
     ]
    }
   ],
   "source": [
    "pt3 = torch.tensor([\n",
    "    -36619.98635744,  13043.51925601, -9967.58759802,  28144.8334594,\n",
    "  23399.59840025,  -2253.61275547,   9005.55508014, -51996.36019142,\n",
    "  -9582.78151001,  76366.30407741], dtype=torch.float64)\n",
    "\n",
    "pt4 = torch.tensor([-2306517.19097746, \n",
    "                    -1462074.1054088, \n",
    "                    2730875.72800282],\n",
    "                   dtype=torch.float64)\n",
    "\n",
    "print(wilson_mdp(pt4, pt4).item())"
   ]
  },
  {
   "cell_type": "code",
   "execution_count": 236,
   "metadata": {},
   "outputs": [
    {
     "name": "stdout",
     "output_type": "stream",
     "text": [
      "725\n",
      "729\n"
     ]
    }
   ],
   "source": [
    "print(23**2 + 14**2)\n",
    "print(27**2)"
   ]
  },
  {
   "cell_type": "code",
   "execution_count": 237,
   "metadata": {},
   "outputs": [
    {
     "name": "stdout",
     "output_type": "stream",
     "text": [
      "Pos:  7457682241981.495 \t Neg:  7457682241794.933\n"
     ]
    },
    {
     "data": {
      "text/plain": [
       "186.5625"
      ]
     },
     "execution_count": 237,
     "metadata": {},
     "output_type": "execute_result"
    }
   ],
   "source": [
    "arr4 = np.array([-2306517.19097746, \n",
    "                    -1462074.1054088, \n",
    "                    2730875.72800282], dtype=np.longdouble)\n",
    "\n",
    "wilson_mdp2(arr4, arr4).item()"
   ]
  },
  {
   "cell_type": "code",
   "execution_count": 217,
   "metadata": {},
   "outputs": [
    {
     "name": "stdout",
     "output_type": "stream",
     "text": [
      "Pos:  7457682241981.495 \t Neg:  7457682241794.933\n",
      "Wilson MDP:\t 186.5625\n",
      "\n",
      "Geoopt MDP:\t 186.5625\n"
     ]
    }
   ],
   "source": [
    "def wilson_mdp2(u, v):\n",
    "    rank = u.shape[-1] - 1\n",
    "    pos = u[:rank].dot(v[:rank])\n",
    "    neg = u[rank] * v[rank]\n",
    "    \n",
    "    # print(u[:rank])\n",
    "    print('Pos: ', pos.item(), '\\t Neg: ', neg.item())\n",
    "    return pos - neg\n",
    "\n",
    "def geoopt_mdp2(u, v, keepdim: bool = False, dim: int = -1):\n",
    "    d = u.size(dim) - 1\n",
    "    uv = u * v\n",
    "    \n",
    "    pos = uv.narrow(dim, 1, d).sum(dim=dim, keepdim=False)\n",
    "    neg = uv.narrow(dim, 0, 1).sum(dim=dim, keepdim=False)\n",
    "    \n",
    "    # print(u.narrow(dim, 1, d))\n",
    "    # print('Pos: ', pos.item(), '\\tNeg: ', neg.item())\n",
    "    return -neg + pos\n",
    "        \n",
    "print('Wilson MDP:\\t', wilson_mdp2(pt4, pt4).item())\n",
    "print()\n",
    "print('Geoopt MDP:\\t', geoopt_mdp2(wilson_to_geoopt(pt4), wilson_to_geoopt(pt4)).item())"
   ]
  },
  {
   "cell_type": "code",
   "execution_count": 175,
   "metadata": {},
   "outputs": [
    {
     "name": "stdout",
     "output_type": "stream",
     "text": [
      "Wilson MDP:\t 22.609623908996582\n",
      "Geoopt MDP:\t 22.609623908996582\n"
     ]
    }
   ],
   "source": [
    "print('Wilson MDP:\\t'`, wilson_mdp(pt3, pt3).item())\n",
    "print('Geoopt MDP:\\t', geoopt_mdp(wilson_to_geoopt(pt3), wilson_to_geoopt(pt3)).item())"
   ]
  },
  {
   "cell_type": "code",
   "execution_count": 209,
   "metadata": {},
   "outputs": [
    {
     "name": "stdout",
     "output_type": "stream",
     "text": [
      "[1.e+308]\n"
     ]
    }
   ],
   "source": [
    "a = np.array([10], dtype=np.float64)\n",
    "b = np.power(a, 308)\n",
    "print(b)"
   ]
  },
  {
   "cell_type": "markdown",
   "metadata": {},
   "source": [
    "wilson mdp: $\\big( u_0 * v_0 + u_1 * v_1 + ... + u_{n-1} * v_{n-1}\\big) - u_n * v_n$\n",
    "\n",
    "geoopt mdp: $- u_0 * v_0 + \\big( u_1 * v_1 + ... + u_{n-1} * v_{n-1} + u_n * v_n \\big)$ "
   ]
  }
 ],
 "metadata": {
  "kernelspec": {
   "display_name": "Python 3.10.9 ('crispr-phylogeny')",
   "language": "python",
   "name": "python3"
  },
  "language_info": {
   "codemirror_mode": {
    "name": "ipython",
    "version": 3
   },
   "file_extension": ".py",
   "mimetype": "text/x-python",
   "name": "python",
   "nbconvert_exporter": "python",
   "pygments_lexer": "ipython3",
   "version": "3.10.9"
  },
  "orig_nbformat": 4,
  "vscode": {
   "interpreter": {
    "hash": "f7bb97b50ad46cb713a8359699e9cabff3f6522da04ef86cb03febb07a8b507c"
   }
  }
 },
 "nbformat": 4,
 "nbformat_minor": 2
}
